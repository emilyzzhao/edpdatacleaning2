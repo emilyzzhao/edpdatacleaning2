{
 "cells": [
  {
   "cell_type": "code",
   "execution_count": 2,
   "metadata": {},
   "outputs": [
    {
     "name": "stdout",
     "output_type": "stream",
     "text": [
      "['S0083', 'S0089', 'S0106', 'S0107', 'S0110', 'S0111', 'W0087', 'S0173', 'S0177', 'S0179', 'S0188', 'S0199', 'S0206', 'S0208', 'S0209', 'S0216', 'S0225', 'S0227', 'S0229', 'S0230', 'S0233', 'S0238', 'S0245', 'S0249', 'S0250', 'S0260', 'S0261', 'S0268', 'S0284', 'S0291', 'S0299', 'S0301', 'S0309', 'S0314', 'S0324', 'S0337', 'S0338', 'S0339', 'S0341', 'S0349', 'S0351', 'S0353', 'S0372', 'S0376', 'S0387', 'S0392', 'S0407', 'S0410', 'S0429', 'S0430', 'S0439', 'S0451', 'S0456', 'S0462', 'S0463', 'S0482', 'S0483', 'S0495', 'S0509', 'S0516', 'S0517', 'S0545', 'S0548', 'S0562', 'S0568', 'S0569', 'S0573', 'S0576', 'S0579', 'S0586', 'S0587', 'W0001', 'W0002', 'W0003', 'W0004', 'W0005', 'W0006', 'W0008', 'W0009', 'W0010', 'W0011', 'W0013', 'W0014', 'W0016', 'W0017', 'W0018', 'W0019', 'W0023', 'W0024', 'W0026', 'W0029', 'W0031', 'W0035', 'W0037', 'W0039', 'W0040', 'W0043', 'W0044', 'W0046', 'W0047', 'W0048', 'W0049', 'W0050', 'W0051', 'W0052', 'W0056', 'W0057', 'W0058', 'W0059', 'W0060', 'W0061', 'W0062', 'W0068', 'W0069', 'W0070', 'W0073', 'W0074', 'W0075', 'W0076', 'W0077', 'W0078', 'W0079', 'W0081', 'W0084', 'W0088', 'W0089', 'W0092', 'W0093', 'W0094', 'W0096', 'W0104', 'W0106', 'W0107', 'W0109', 'W0112', 'W0114', 'W0118', 'W0119', 'W0121', 'W0124', 'W0130', 'W0133', 'W0137', 'W0138', 'W0141', 'W0142', 'W0143', 'W0144', 'W0145', 'W0148', 'W0155', 'W0158', 'W0159', 'W0160', 'W0161', 'W0165', 'W0166', 'W0172', 'W0178', 'W0181', 'W0182', 'W0186', 'W0188', 'W0190', 'W0192', 'W0193', 'W0195', 'W0197', 'W0198', 'W0199', 'W0200', 'W0205', 'W0207', 'W0213', 'W0216', 'W0219', 'W0220', 'W0221', 'W0227', 'W0228', 'W0229', 'W0232', 'W0233', 'W0234', 'W0236', 'W0240', 'W0244', 'W0251', 'W0253', 'W0254', 'W0258', 'W0260', 'W0264', 'W0266', 'W0271', 'W0272', 'W0273', 'W0275', 'W0276', 'W0278', 'W0279', 'W0283', 'W0284', 'W0291', 'W0293', 'W0294', 'W0297', 'W0298', 'W0299', 'W0302', 'W0303', 'W0304', 'W0310', 'W0314', 'W0318', 'W0319', 'W0321', 'W0322', 'W0325', 'W0326', 'W0328', 'W0329', 'W0332', 'W0334', 'W0336', 'W0341', 'W0342', 'W0345', 'W0346', 'W0348', 'W0352']\n"
     ]
    }
   ],
   "source": [
    "import os\n",
    "import pandas as pd\n",
    "import plotly.graph_objs as go\n",
    "import plotly.offline as pyo\n",
    "from concurrent.futures import ProcessPoolExecutor\n",
    "\n",
    "\n",
    "# Base directory (set to a location you have write access to)\n",
    "base_directory = \"C:/Users/CEEM04/OneDrive-Emily/OneDrive - UNSW/edpdatacleaning\"\n",
    "\n",
    "# Directory containing the CSV files\n",
    "data_directory = os.path.join(base_directory, 'edp_data')\n",
    "\n",
    "# Directory to save filtered data\n",
    "filtered_data_directory = os.path.join(base_directory, 'filtered_data_real')\n",
    "\n",
    "# Directory to save profiles\n",
    "site_profiles_directory = os.path.join(base_directory, 'full_profiles_real')\n",
    "\n",
    "resampled_data_directory = os.path.join(base_directory,'resampled_30min_data_real')\n",
    "\n",
    "# Ensure these directories exist\n",
    "for directory in [data_directory, filtered_data_directory, site_profiles_directory,resampled_data_directory]:\n",
    "    if not os.path.exists(directory):\n",
    "        os.makedirs(directory)\n",
    "        \n",
    "        \n",
    "# Find unique Site IDs for sites that have full 2023 data\n",
    "\n",
    "# df = pd.read_csv('survey/edp_data_first_and_last_dates.csv')\n",
    "\n",
    "# # Convert 'start date' and 'end date' columns to datetime\n",
    "# df['date_of_first_data'] = pd.to_datetime(df['date_of_first_data'])\n",
    "# df['date_of_last_data'] = pd.to_datetime(df['date_of_last_data'])\n",
    "\n",
    "# # Define the date limits\n",
    "# start_date_limit = pd.to_datetime('1/1/2023 00:00')\n",
    "# end_date_limit = pd.to_datetime('12/31/2023 23:00')\n",
    "\n",
    "# # Filter the rows where 'start date' is before 01/01/2023 and 'end date' is after 12/31/2023\n",
    "# filtered_df = df[(df['date_of_first_data'] < start_date_limit) & (df['date_of_last_data'] > end_date_limit)]\n",
    "\n",
    "# # Get the list of site_IDs\n",
    "# site_ids = filtered_df['edp_site_id'].tolist()\n",
    "\n",
    "# # Print the list of site_IDs\n",
    "# print(site_ids)\n",
    "\n",
    "# print(len(site_ids))\n",
    "\n",
    "\n",
    "# # finding ids with ac_load_net data\n",
    "\n",
    "# df = pd.read_csv('edp_data/edp_data_2023_01.csv')\n",
    "\n",
    "# filtered_df = df[df['circuit_label'] == 'ac_load_net']\n",
    "\n",
    "# unique_site_ids = filtered_df['edp_site_id'].unique()\n",
    "\n",
    "# unique_site_ids_list = unique_site_ids.tolist()\n",
    "\n",
    "# print(unique_site_ids)\n",
    "\n",
    "# print(len(unique_site_ids))\n",
    "\n",
    "# site IDs with data in 2023\n",
    "\n",
    "site_ids_2023 = ['S0116', 'W0340', 'W0172', 'S0473', 'S0109', 'S0589', 'W0255', 'S0112', 'W0171', 'W0344', 'S0082', 'S0128',  'S0528', 'W0219', 'S0231', 'W0031', 'S0464', 'S0126', 'W0060', 'W0162', 'S0104', 'S0383', 'S0284', 'S0358', 'S0002', 'W0121', 'S0049', 'W0015', 'S0118', 'S0125', 'S0210', 'S0085', 'S0264', 'W0189', 'S0266', 'W0321', 'W0117', 'S0238', 'S0426', 'S0097', 'S0115', 'S0133', 'S0024', 'S0084', 'S0155', 'S0170', 'S0092', 'S0124', 'S0114', 'S0192', 'S0420', 'S0460', 'S0529', 'S0348', 'S0492', 'S0154', 'S0182', 'S0189', 'S0190', 'S0280', 'S0294', 'S0377', 'S0384', 'S0394', 'S0409', 'S0434', 'S0448', 'S0454', 'S0500', 'S0540', 'S0543', 'S0493', 'S0463', 'S0143', 'S0296', 'S0378', 'S0379', 'S0386', 'S0416', 'S0422', 'S0549', 'S0237', 'S0368', 'S0593', 'S0451', 'S0391', 'S0499', 'S0357', 'S0324', 'S0477', 'S0456', 'S0542', 'S0550', 'S0152', 'S0178', 'S0183', 'S0184', 'S0186', 'S0187', 'S0291', 'S0309', 'S0312', 'S0331', 'S0338', 'S0343', 'S0354', 'S0361', 'S0372', 'S0382', 'S0392', 'S0399', 'S0400', 'S0404', 'S0461', 'S0462', 'S0471', 'S0476', 'S0490', 'S0491', 'S0504', 'S0507', 'S0508', 'S0518', 'S0519', 'S0555', 'S0556', 'S0572', 'S0574', 'S0319', 'S0242', 'S0582', 'W0150', 'S0107', 'S0008', 'S0297', 'S0119', 'S0031', 'S0101', 'S0442', 'S0135', 'S0345', 'W0122', 'S0005', 'W0208', 'W0203', 'W0218', 'W0212', 'W0157', 'W0105', 'W0116', 'W0272', 'W0223', 'W0350', 'W0234', 'W0128', 'W0286', 'W0296', 'W0252', 'W0184', 'W0180', 'W0147', 'W0204', 'W0173', 'W0265', 'W0316', 'W0102', 'W0123', 'W0169', 'W0134', 'W0131', 'W0206', 'W0259', 'W0139', 'W0108', 'W0326', 'W0174', 'W0313', 'W0311', 'W0245', 'W0339', 'W0214', 'W0170', 'W0331', 'W0113', 'W0129', 'W0230', 'W0210', 'W0249', 'W0270', 'W0151', 'W0282', 'W0328', 'W0225', 'W0261', 'W0196', 'W0295', 'W0268', 'W0246', 'W0126', 'W0238', 'W0167', 'W0201', 'W0191', 'W0146', 'W0165', 'W0163', 'W0267', 'W0178', 'W0301', 'W0287', 'W0306', 'W0277', 'W0125', 'W0149', 'W0290', 'W0115', 'W0209', 'W0153', 'W0320', 'W0349', 'W0188', 'S0429', 'W0069', 'W0300', 'W0159', 'S0020', 'S0255', 'S0214', 'S0583', 'S0041', 'S0010', 'W0351', 'W0292', 'W0248', 'S0552', 'W0215', 'W0289', 'W0337', 'W0322', 'S0288', 'W0056', 'W0072', 'S0515', 'S0260', 'S0287', 'W0308', 'W0103', 'W0257', 'W0101', 'W0327', 'W0353', 'W0288', 'W0185', 'W0222', 'W0317', 'W0227', 'W0043', 'W0156', 'W0352', 'S0252', 'W0194', 'W0247', 'W0109', 'W0062', 'W0078', 'W0166', 'S0151', 'S0140', 'W0226', 'W0217', 'W0112', 'W0104', 'W0251', 'W0152', 'W0145', 'W0213', 'S0495', 'W0143', 'W0312', 'W0135', 'W0323', 'W0279', 'S0233', 'W0019', 'W0161', 'S0117', 'S0088', 'W0341', 'W0211', 'W0276', 'W0012', 'S0547', 'W0281', 'W0187', 'W0347', 'W0241', 'W0304', 'S0181', 'W0269', 'W0283', 'S0480', 'W0138', 'S0584', 'S0253', 'W0220', 'W0127', 'W0275', 'W0010', 'W0228', 'S0441', 'W0106', 'W0274', 'S0497', 'W0229', 'S0163', 'W0224', 'W0200', 'S0402', 'S0355', 'W0233', 'W0333', 'W0164', 'W0091', 'W0093', 'S0445', 'W0236', 'S0521', 'S0527', 'W0307', 'W0148', 'S0523', 'W0330', 'W0130', 'S0240', 'W0216', 'W0017', 'W0303', 'S0398', 'S0245', 'S0469', 'W0192', 'W0314', 'W0193', 'S0328', 'W0049', 'S0457', 'W0158', 'W0098', 'S0424', 'W0293', 'W0298', 'W0284', 'W0325', 'W0318', 'W0235', 'W0299', 'S0468', 'S0194', 'W0028', 'W0029', 'S0235', 'W0137', 'S0506', 'W0110', 'W0038', 'W0346', 'W0244', 'W0329', 'W0342', 'W0240', 'W0205', 'W0343', 'W0111', 'W0278', 'W0264', 'W0168', 'W0271', 'S0176', 'W0140', 'W0334', 'S0405', 'S0225', 'W0133', 'W0345', 'W0095', 'S0172', 'W0088', 'S0557', 'W0119', 'S0522', 'W0280', 'W0195', 'S0323', 'S0539', 'W0237', 'S0514', 'W0263', 'W0202', 'W0089', 'W0076', 'W0061', 'S0321', 'W0182', 'S0149', 'W0097', 'S0494', 'S0431', 'S0538', 'W0154', 'W0198', 'W0315', 'S0305', 'W0120', 'W0179', 'W0066', 'S0221', 'W0087', 'S0254', 'W0070', 'S0393', 'S0262', 'S0206', 'S0269', 'S0450', 'S0600', 'S0443', 'W0190', 'W0181', 'S0256', 'S0487', 'S0410', 'W0094', 'W0294', 'W0310', 'W0338', 'S0428', 'S0578', 'W0221', 'W0186', 'S0415', 'W0266', 'W0348', 'W0175', 'W0001', 'S0274', 'W0302', 'W0124', 'S0333', 'S0599', 'S0335', 'W0177', 'W0063', 'W0114', 'W0335', 'W0297', 'W0260', 'W0155', 'W0319', 'W0254', 'W0022', 'S0385', 'S0282', 'S0224', 'W0118', 'S0168', 'S0411', 'S0166', 'W0160', 'W0336', 'W0273', 'W0044', 'W0231', 'W0332', 'W0258', 'S0169', 'W0243', 'S0165', 'W0183', 'S0167', 'W0253', 'W0037', 'W0142', 'S0339', 'W0199', 'W0250', 'W0291', 'S0511', 'W0024', 'W0324', 'S0301', 'W0081', 'W0005', 'S0389', 'S0446', 'S0512', 'W0207', 'W0232', 'W0107', 'S0337', 'S0203', 'S0444', 'W0032', 'S0139', 'S0483', 'W0047', 'W0018', 'S0567', 'S0363', 'W0074', 'S0374', 'S0509', 'S0559', 'W0096', 'W0002', 'W0026', 'W0059', 'W0006', 'W0040', 'W0046', 'W0144', 'W0039', 'W0004', 'W0016', 'W0071', 'W0073', 'W0079', 'W0011', 'W0085', 'W0048', 'W0050', 'W0197', 'W0054', 'S0525', 'W0014', 'W0009', 'S0532', 'S0211', 'S0536', 'W0084', 'W0075', 'S0364', 'S0193', 'W0052', 'S0470', 'W0030', 'W0008', 'W0027', 'W0057', 'W0065', 'S0430', 'W0042', 'W0141', 'W0058', 'W0068', 'W0013', 'W0023', 'W0021', 'S0142', 'S0281', 'S0524', 'W0035', 'W0003', 'S0356', 'S0159', 'S0591', 'S0090', 'S0535', 'S0365', 'S0342', 'S0381', 'S0277', 'S0303', 'S0570', 'S0136', 'S0452', 'S0418', 'S0318', 'S0482', 'S0322', 'S0414', 'S0432', 'S0566', 'S0594', 'S0144', 'S0437', 'S0226', 'S0232', 'S0467', 'S0120', 'S0272', 'S0427', 'S0270', 'S0433', 'S0247', 'S0558', 'S0375', 'S0106', 'S0390', 'S0130', 'S0250', 'S0587', 'S0544', 'S0208', 'S0099', 'S0340', 'S0387', 'S0304', 'S0475', 'S0249', 'S0325', 'S0553', 'S0353', 'S0197', 'S0267', 'S0478', 'S0580', 'S0412', 'S0275', 'S0541', 'S0286', 'S0562', 'S0188', 'S0259', 'S0407', 'S0359', 'S0147', 'S0513', 'S0408', 'S0395', 'S0367', 'S0563', 'S0406', 'S0327', 'S0273', 'S0560', 'S0219', 'S0100', 'S0122', 'S0503', 'S0314', 'S0455', 'S0465', 'S0472', 'S0344', 'S0346', 'S0180', 'S0251', 'S0234', 'S0298', 'S0350', 'S0276', 'S0403', 'S0239', 'S0299', 'W0132', 'S0488', 'S0317', 'S0261', 'S0380', 'S0320', 'W0077', 'S0160', 'S0326', 'W0051', 'S0516', 'S0438', 'W0082', 'W0092', 'S0369', 'S0447', 'S0153', 'S0537', 'S0199', 'S0485', 'S0576', 'S0156', 'S0561', 'S0268', 'S0150', 'S0349', 'S0551', 'S0474', 'S0230', 'S0371', 'S0496', 'S0217', 'S0137', 'S0141', 'S0145', 'S0146', 'S0157', 'S0158', 'S0162', 'S0164', 'S0171', 'S0173', 'S0174', 'S0175', 'S0177', 'S0179', 'S0185', 'S0191', 'S0195', 'S0200', 'S0201', 'S0209', 'S0212', 'S0213', 'S0215', 'S0216', 'S0218', 'S0220', 'S0222', 'S0227', 'S0228', 'S0229', 'S0241', 'S0243', 'S0244', 'S0246', 'S0257', 'S0258', 'S0279', 'S0283', 'S0289', 'S0295', 'S0300', 'S0302', 'S0306', 'S0308', 'S0310', 'S0311', 'S0313', 'S0315', 'S0316', 'S0329', 'S0330', 'S0334', 'S0341', 'S0347', 'S0351', 'S0362', 'S0366', 'S0370', 'S0376', 'S0396', 'S0401', 'S0413', 'S0417', 'S0421', 'S0423', 'S0425', 'S0435', 'S0436', 'S0439', 'S0440', 'S0449', 'S0458', 'S0459', 'S0466', 'S0479', 'S0498', 'S0501', 'S0502', 'S0505', 'S0517', 'S0526', 'S0530', 'S0531', 'S0533', 'S0545', 'S0546', 'S0548', 'S0554', 'S0564', 'S0565', 'S0568', 'S0569', 'S0571', 'S0573', 'S0579', 'S0581', 'S0585', 'S0586', 'S0588', 'S0590', 'S0592', 'S0596', 'S0013', 'S0127', 'S0040', 'S0050', 'S0061', 'S0075', 'S0076', 'S0078', 'S0081', 'S0083', 'S0087', 'S0089', 'S0091', 'S0093', 'S0096', 'S0102', 'S0110', 'S0111']\n",
    "\n",
    "\n",
    "# site IDs with air conditioning data \n",
    "\n",
    "site_ids_with_air_conditioner = ['S0024', 'S0083', 'S0089', 'S0106', 'S0107', 'S0108', 'S0110', 'S0111', 'W0086', 'W0087', 'S0159', 'S0173', 'S0177', 'S0179', 'S0188', 'S0195', 'S0198', 'S0199', 'S0206', 'S0208', 'S0209', 'S0216', 'S0223', 'S0225', 'S0227', 'S0229', 'S0230', 'S0233', 'S0238', 'S0245', 'S0248', 'S0249', 'S0250', 'S0260', 'S0261', 'S0268', 'S0284', 'S0285', 'S0291', 'S0299', 'S0301', 'S0309', 'S0314', 'S0318', 'S0324', 'S0337', 'S0338', 'S0339', 'S0341', 'S0161', 'S0162', 'S0349', 'S0351', 'S0353', 'S0360', 'S0372', 'S0376', 'S0387', 'S0392', 'S0397', 'S0407', 'S0410', 'S0419', 'S0429', 'S0430', 'S0439', 'S0444', 'S0451', 'S0456', 'S0462', 'S0463', 'S0470', 'S0482', 'S0483', 'S0495', 'S0509', 'S0516', 'S0517', 'S0520', 'S0545', 'S0548', 'S0562', 'S0568', 'S0569', 'S0573', 'S0576', 'S0579', 'S0586', 'S0587', 'S0598', 'W0001', 'W0002', 'W0003', 'W0004', 'W0005', 'W0006', 'W0007', 'W0008', 'W0009', 'W0010', 'W0011', 'W0013', 'W0014', 'W0016', 'W0017', 'W0018', 'W0019', 'W0023', 'W0024', 'W0025', 'W0026', 'W0029', 'W0031', 'W0035', 'W0036', 'W0037', 'W0039', 'W0040', 'W0041', 'W0043', 'W0044', 'W0046', 'W0047', 'W0048', 'W0049', 'W0050', 'W0051', 'W0052', 'W0056', 'W0057', 'W0058', 'W0059', 'W0060', 'W0061', 'W0062', 'W0064', 'W0068', 'W0069', 'W0070', 'W0073', 'W0074', 'W0075', 'W0076', 'W0077', 'W0078', 'W0079', 'W0081', 'W0082', 'W0084', 'W0088', 'W0089', 'W0091', 'W0092', 'W0093', 'W0094', 'W0096', 'W0100', 'W0101', 'W0104', 'W0106', 'W0107', 'W0109', 'W0112', 'W0114', 'W0118', 'W0119', 'W0120', 'W0121', 'W0124', 'W0130', 'W0133', 'W0137', 'W0138', 'W0141', 'W0142', 'W0143', 'W0144', 'W0145', 'W0148', 'W0155', 'W0158', 'W0159', 'W0160', 'W0161', 'W0162', 'W0165', 'W0166', 'W0262', 'W0172', 'W0175', 'W0176', 'W0178', 'W0181', 'W0182', 'W0186', 'W0188', 'W0190', 'W0192', 'W0193', 'W0194', 'W0195', 'W0197', 'W0198', 'W0199', 'W0200', 'W0205', 'W0207', 'W0213', 'W0216', 'W0219', 'W0220', 'W0221', 'W0224', 'W0227', 'W0228', 'W0229', 'W0232', 'W0233', 'W0234', 'W0236', 'W0239', 'W0240', 'W0241', 'W0243', 'W0244', 'W0251', 'W0253', 'W0254', 'W0256', 'W0258', 'W0260', 'W0264', 'W0266', 'W0271', 'W0272', 'W0273', 'W0275', 'W0276', 'W0278', 'W0279', 'W0283', 'W0284', 'W0291', 'W0293', 'W0294', 'W0297', 'W0298', 'W0299', 'W0302', 'W0303', 'W0304', 'W0310', 'W0314', 'W0315', 'W0318', 'W0319', 'W0321', 'W0322', 'W0324', 'W0325', 'W0326', 'W0328', 'W0329', 'W0330', 'W0332', 'W0334', 'W0335', 'W0336', 'W0341', 'W0342', 'W0345', 'W0346', 'W0348', 'W0352']\n",
    "\n",
    "# site IDs with hot water load data \n",
    "site_ids_with_hot_water = ['S0082', 'S0092', 'S0096', 'S0112', 'S0125', 'S0133', 'W0086', 'S0145', 'S0198', 'S0206', 'S0208', 'S0219', 'S0220', 'S0225', 'S0230', 'S0234', 'S0248', 'S0249', 'S0260', 'S0276', 'S0301', 'S0304', 'S0311', 'S0314', 'S0315', 'S0333', 'S0337', 'S0339', 'S0153', 'S0349', 'S0366', 'S0375', 'S0433', 'S0458', 'S0483', 'S0495', 'S0504', 'S0516', 'S0537', 'S0566', 'S0579', 'S0584', 'S0597', 'S0598', 'W0001', 'W0007', 'W0008', 'W0013', 'W0014', 'W0018', 'W0020', 'W0025', 'W0027', 'W0029', 'W0042', 'W0048', 'W0058', 'W0061', 'W0072', 'W0074', 'W0075', 'W0088', 'W0094', 'W0095', 'W0100', 'W0106', 'W0124', 'W0130', 'W0133', 'W0137', 'W0138', 'W0141', 'W0143', 'W0148', 'W0158', 'W0159', 'W0172', 'W0175', 'W0181', 'W0182', 'W0183', 'W0192', 'W0197', 'W0198', 'W0200', 'W0205', 'W0217', 'W0229', 'W0233', 'W0236', 'W0247', 'W0250', 'W0253', 'W0256', 'W0271', 'W0278', 'W0283', 'W0314', 'W0324', 'W0328', 'W0336', 'W0342', 'W0345']\n",
    "\n",
    "# site IDs with AC net load data\n",
    "\n",
    "site_ids_with_ac_load_net = ['S0002', 'S0005', 'S0008', 'S0010', 'S0013', 'S0020', 'S0024', 'S0031', 'S0034', 'S0040', 'S0041', 'S0049', 'S0050', 'S0061', 'S0075', 'S0076', 'S0081', 'S0082', 'S0083', 'S0084', 'S0085', 'S0087', 'S0088', 'S0089', 'S0090', 'S0091', 'S0092', 'S0093', 'S0096', 'S0097', 'S0099', 'S0100', 'S0101', 'S0102', 'S0103', 'S0104', 'S0106', 'S0107', 'S0108', 'S0109', 'S0110', 'S0111', 'S0112', 'S0113', 'S0114', 'S0115', 'S0116', 'S0117', 'S0118', 'S0119', 'S0120', 'S0122', 'S0123', 'S0124', 'S0125', 'S0126', 'S0127', 'S0128', 'S0133', 'S0135', 'W0086', 'S0139', 'W0087', 'S0142', 'S0143', 'S0144', 'S0145', 'S0146', 'S0147', 'S0148', 'S0149', 'S0150', 'S0151', 'S0152', 'S0154', 'S0155', 'S0157', 'S0158', 'S0159', 'S0160', 'S0163', 'S0164', 'S0165', 'S0166', 'S0167', 'S0168', 'S0169', 'S0170', 'S0171', 'S0172', 'S0173', 'S0174', 'S0175', 'S0176', 'S0177', 'S0178', 'S0179', 'S0180', 'S0181', 'S0182', 'S0183', 'S0184', 'S0185', 'S0186', 'S0187', 'S0188', 'S0189', 'S0190', 'S0191', 'S0192', 'S0193', 'S0194', 'S0197', 'S0198', 'S0199', 'S0200', 'S0201', 'S0202', 'S0203', 'S0204', 'S0205', 'S0206', 'S0207', 'S0208', 'S0209', 'S0210', 'S0211', 'S0212', 'S0213', 'S0214', 'S0215', 'S0216', 'S0217', 'S0218', 'S0219', 'S0220', 'S0221', 'S0222', 'S0223', 'S0224', 'S0225', 'S0226', 'S0227', 'S0228', 'S0229', 'S0230', 'S0231', 'S0232', 'S0233', 'S0234', 'S0235', 'S0237', 'S0238', 'S0239', 'S0240', 'S0242', 'S0243', 'S0244', 'S0245', 'S0246', 'S0247', 'S0248', 'S0249', 'S0250', 'S0251', 'S0252', 'S0253', 'S0254', 'S0255', 'S0256', 'S0257', 'S0258', 'S0259', 'S0260', 'S0261', 'S0262', 'S0264', 'S0266', 'S0267', 'S0268', 'S0269', 'S0270', 'S0271', 'S0272', 'S0273', 'S0274', 'S0275', 'S0276', 'S0277', 'S0279', 'S0280', 'S0281', 'S0282', 'S0283', 'S0284', 'S0285', 'S0286', 'S0288', 'S0289', 'S0290', 'S0291', 'S0293', 'S0294', 'S0295', 'S0296', 'S0297', 'S0298', 'S0299', 'S0300', 'S0301', 'S0302', 'S0303', 'S0304', 'S0305', 'S0306', 'S0307', 'S0308', 'S0309', 'S0310', 'S0311', 'S0312', 'S0313', 'S0314', 'S0315', 'S0316', 'S0317', 'S0318', 'S0319', 'S0320', 'S0321', 'S0322', 'S0323', 'S0324', 'S0325', 'S0326', 'S0327', 'S0328', 'S0329', 'S0330', 'S0331', 'S0332', 'S0333', 'S0334', 'S0335', 'S0336', 'S0337', 'S0338', 'S0339', 'S0340', 'S0341', 'S0343', 'S0344', 'S0345', 'S0346', 'S0347', 'S0137', 'S0141', 'S0153', 'S0161', 'S0348', 'S0349', 'S0350', 'S0351', 'S0352', 'S0353', 'S0354', 'S0355', 'S0356', 'S0357', 'S0358', 'S0359', 'S0360', 'S0361', 'S0362', 'S0363', 'S0364', 'S0365', 'S0366', 'S0367', 'S0368', 'S0369', 'S0370', 'S0371', 'S0372', 'S0373', 'S0374', 'S0375', 'S0376', 'S0377', 'S0378', 'S0379', 'S0380', 'S0381', 'S0382', 'S0383', 'S0384', 'S0385', 'S0386', 'S0387', 'S0389', 'S0390', 'S0391', 'S0392', 'S0393', 'S0394', 'S0395', 'S0396', 'S0397', 'S0398', 'S0399', 'S0400', 'S0401', 'S0402', 'S0403', 'S0404', 'S0405', 'S0406', 'S0407', 'S0408', 'S0409', 'S0410', 'S0411', 'S0412', 'S0413', 'S0414', 'S0415', 'S0416', 'S0417', 'S0418', 'S0419', 'S0420', 'S0421', 'S0422', 'S0423', 'S0424', 'S0425', 'S0426', 'S0427', 'S0428', 'S0429', 'S0430', 'S0431', 'S0432', 'S0433', 'S0434', 'S0435', 'S0437', 'S0438', 'S0439', 'S0440', 'S0441', 'S0442', 'S0443', 'S0444', 'S0445', 'S0446', 'S0447', 'S0448', 'S0449', 'S0450', 'S0451', 'S0452', 'S0453', 'S0454', 'S0455', 'S0456', 'S0457', 'S0458', 'S0459', 'S0460', 'S0461', 'S0462', 'S0463', 'S0464', 'S0465', 'S0466', 'S0467', 'S0468', 'S0469', 'S0470', 'S0471', 'S0472', 'S0473', 'S0474', 'S0475', 'S0476', 'S0477', 'S0478', 'S0479', 'S0480', 'S0481', 'S0482', 'S0483', 'S0484', 'S0485', 'S0486', 'S0487', 'S0488', 'S0489', 'S0490', 'S0491', 'S0492', 'S0493', 'S0494', 'S0495', 'S0496', 'S0497', 'S0498', 'S0499', 'S0500', 'S0501', 'S0502', 'S0503', 'S0504', 'S0505', 'S0506', 'S0507', 'S0508', 'S0509', 'S0510', 'S0511', 'S0512', 'S0513', 'S0514', 'S0515', 'S0516', 'S0517', 'S0518', 'S0519', 'S0520', 'S0521', 'S0522', 'S0523', 'S0524', 'S0525', 'S0526', 'S0527', 'S0528', 'S0529', 'S0530', 'S0531', 'S0532', 'S0533', 'S0534', 'S0535', 'S0536', 'S0537', 'S0538', 'S0539', 'S0540', 'S0541', 'S0542', 'S0543', 'S0544', 'S0545', 'S0546', 'S0547', 'S0548', 'S0549', 'S0550', 'S0551', 'S0552', 'S0553', 'S0554', 'S0555', 'S0556', 'S0557', 'S0558', 'S0559', 'S0560', 'S0561', 'S0562', 'S0563', 'S0564', 'S0565', 'S0566', 'S0567', 'S0568', 'S0569', 'S0570', 'S0571', 'S0572', 'S0573', 'S0574', 'S0576', 'S0577', 'S0578', 'S0579', 'S0580', 'S0581', 'S0582', 'S0583', 'S0584', 'S0585', 'S0586', 'S0587', 'S0588', 'S0589', 'S0590', 'S0591', 'S0592', 'S0593', 'S0594', 'S0595', 'S0596', 'S0597', 'S0598', 'S0600', 'W0001', 'W0002', 'W0003', 'W0004', 'W0005', 'W0006', 'W0007', 'W0008', 'W0009', 'W0010', 'W0011', 'W0012', 'W0013', 'W0014', 'W0015', 'W0016', 'W0017', 'W0018', 'W0019', 'W0020', 'W0021', 'W0022', 'W0023', 'W0024', 'W0025', 'W0026', 'W0027', 'W0028', 'W0029', 'W0030', 'W0031', 'W0032', 'W0034', 'W0035', 'W0036', 'W0037', 'W0038', 'W0039', 'W0040', 'W0041', 'W0042', 'W0043', 'W0044', 'W0045', 'W0046', 'W0047', 'W0048', 'W0049', 'W0050', 'W0051', 'W0052', 'W0053', 'W0054', 'W0055', 'W0056', 'W0057', 'W0058', 'W0059', 'W0060', 'W0061', 'W0062', 'W0063', 'W0064', 'W0065', 'W0066', 'W0068', 'W0069', 'W0070', 'W0071', 'W0072', 'W0073', 'W0074', 'W0075', 'W0076', 'W0077', 'W0078', 'W0079', 'W0080', 'W0081', 'W0082', 'W0083', 'W0084', 'W0085', 'W0167', 'W0088', 'W0089', 'W0090', 'W0092', 'W0093', 'W0094', 'W0095', 'W0096', 'W0097', 'W0098', 'W0100', 'W0104', 'W0106', 'W0107', 'W0109', 'W0111', 'W0112', 'W0114', 'W0118', 'W0119', 'W0120', 'W0121', 'W0122', 'W0124', 'W0127', 'W0130', 'W0132', 'W0133', 'W0137', 'W0138', 'W0140', 'W0141', 'W0142', 'W0143', 'W0144', 'W0145', 'W0148', 'W0152', 'W0154', 'W0155', 'W0156', 'W0158', 'W0159', 'W0160', 'W0161', 'W0162', 'W0163', 'W0164', 'W0165', 'W0166', 'W0262', 'W0168', 'W0172', 'W0174', 'W0175', 'W0176', 'W0177', 'W0178', 'W0179', 'W0181', 'W0182', 'W0183', 'W0186', 'W0188', 'W0190', 'W0192', 'W0193', 'W0195', 'W0197', 'W0198', 'W0199', 'W0200', 'W0202', 'W0203', 'W0205', 'W0207', 'W0210', 'W0213', 'W0215', 'W0216', 'W0217', 'W0219', 'W0220', 'W0221', 'W0224', 'W0227', 'W0228', 'W0229', 'W0232', 'W0233', 'W0234', 'W0235', 'W0236', 'W0237', 'W0239', 'W0240', 'W0241', 'W0242', 'W0243', 'W0244', 'W0247', 'W0250', 'W0251', 'W0252', 'W0253', 'W0254', 'W0255', 'W0256', 'W0258', 'W0260', 'W0263', 'W0264', 'W0266', 'W0271', 'W0272', 'W0273', 'W0274', 'W0275', 'W0276', 'W0278', 'W0279', 'W0280', 'W0283', 'W0284', 'W0286', 'W0291', 'W0293', 'W0294', 'W0297', 'W0298', 'W0299', 'W0302', 'W0303', 'W0304', 'W0306', 'W0307', 'W0310', 'W0314', 'W0315', 'W0316', 'W0318', 'W0319', 'W0321', 'W0322', 'W0323', 'W0324', 'W0325', 'W0326', 'W0327', 'W0328', 'W0329', 'W0330', 'W0332', 'W0334', 'W0335', 'W0336', 'W0338', 'W0341', 'W0342', 'W0343', 'W0345', 'W0346', 'W0348', 'W0352']\n",
    "\n",
    "# Site IDs with air con and full 2023 data\n",
    "site_ids_2023_air_conditioner = intersection = [item for item in site_ids_with_air_conditioner if item in site_ids_2023]\n",
    "\n",
    "site_ids_2023_air_conditioner = [item for item in site_ids_2023_air_conditioner if item in site_ids_with_ac_load_net]\n",
    "\n",
    "\n",
    "# List of site IDs to loop through\n",
    "site_ids = site_ids_2023_air_conditioner  # Add more site IDs as necessary\n",
    "\n",
    "\n",
    "ids_to_remove = [\n",
    "    'S0024', 'S0159', 'S0318', 'S0444', 'S0470',\n",
    "    'W0082', 'W0120', 'W0162', 'W0175', 'W0224',\n",
    "    'W0241', 'W0243', 'W0315', 'W0324', 'W0330', 'W0335'\n",
    "]\n",
    "\n",
    "\n",
    "filtered_list = [site_id for site_id in site_ids if site_id not in ids_to_remove]\n",
    "\n",
    "site_ids = filtered_list\n",
    "\n",
    "print(site_ids)\n"
   ]
  },
  {
   "cell_type": "code",
   "execution_count": 3,
   "metadata": {},
   "outputs": [
    {
     "name": "stdout",
     "output_type": "stream",
     "text": [
      "Processed data for site W0058 saved to C:/Users/CEEM04/OneDrive-Emily/OneDrive - UNSW/edpdatacleaning\\full_profiles_real\\W0058_profile.csv\n",
      "Processed data for site W0059 saved to C:/Users/CEEM04/OneDrive-Emily/OneDrive - UNSW/edpdatacleaning\\full_profiles_real\\W0059_profile.csv\n",
      "Processed data for site W0060 saved to C:/Users/CEEM04/OneDrive-Emily/OneDrive - UNSW/edpdatacleaning\\full_profiles_real\\W0060_profile.csv\n",
      "Processed data for site W0061 saved to C:/Users/CEEM04/OneDrive-Emily/OneDrive - UNSW/edpdatacleaning\\full_profiles_real\\W0061_profile.csv\n",
      "Processed data for site W0062 saved to C:/Users/CEEM04/OneDrive-Emily/OneDrive - UNSW/edpdatacleaning\\full_profiles_real\\W0062_profile.csv\n",
      "Processed data for site W0068 saved to C:/Users/CEEM04/OneDrive-Emily/OneDrive - UNSW/edpdatacleaning\\full_profiles_real\\W0068_profile.csv\n",
      "Processed data for site W0069 saved to C:/Users/CEEM04/OneDrive-Emily/OneDrive - UNSW/edpdatacleaning\\full_profiles_real\\W0069_profile.csv\n",
      "Processed data for site W0070 saved to C:/Users/CEEM04/OneDrive-Emily/OneDrive - UNSW/edpdatacleaning\\full_profiles_real\\W0070_profile.csv\n",
      "Processed data for site W0073 saved to C:/Users/CEEM04/OneDrive-Emily/OneDrive - UNSW/edpdatacleaning\\full_profiles_real\\W0073_profile.csv\n",
      "Processed data for site W0074 saved to C:/Users/CEEM04/OneDrive-Emily/OneDrive - UNSW/edpdatacleaning\\full_profiles_real\\W0074_profile.csv\n",
      "Processed data for site W0075 saved to C:/Users/CEEM04/OneDrive-Emily/OneDrive - UNSW/edpdatacleaning\\full_profiles_real\\W0075_profile.csv\n",
      "Processed data for site W0076 saved to C:/Users/CEEM04/OneDrive-Emily/OneDrive - UNSW/edpdatacleaning\\full_profiles_real\\W0076_profile.csv\n",
      "Processed data for site W0077 saved to C:/Users/CEEM04/OneDrive-Emily/OneDrive - UNSW/edpdatacleaning\\full_profiles_real\\W0077_profile.csv\n",
      "Processed data for site W0078 saved to C:/Users/CEEM04/OneDrive-Emily/OneDrive - UNSW/edpdatacleaning\\full_profiles_real\\W0078_profile.csv\n",
      "Processed data for site W0079 saved to C:/Users/CEEM04/OneDrive-Emily/OneDrive - UNSW/edpdatacleaning\\full_profiles_real\\W0079_profile.csv\n",
      "Processed data for site W0081 saved to C:/Users/CEEM04/OneDrive-Emily/OneDrive - UNSW/edpdatacleaning\\full_profiles_real\\W0081_profile.csv\n",
      "Processed data for site W0084 saved to C:/Users/CEEM04/OneDrive-Emily/OneDrive - UNSW/edpdatacleaning\\full_profiles_real\\W0084_profile.csv\n",
      "Processed data for site W0088 saved to C:/Users/CEEM04/OneDrive-Emily/OneDrive - UNSW/edpdatacleaning\\full_profiles_real\\W0088_profile.csv\n",
      "Processed data for site W0089 saved to C:/Users/CEEM04/OneDrive-Emily/OneDrive - UNSW/edpdatacleaning\\full_profiles_real\\W0089_profile.csv\n",
      "Processed data for site W0092 saved to C:/Users/CEEM04/OneDrive-Emily/OneDrive - UNSW/edpdatacleaning\\full_profiles_real\\W0092_profile.csv\n",
      "Processed data for site W0093 saved to C:/Users/CEEM04/OneDrive-Emily/OneDrive - UNSW/edpdatacleaning\\full_profiles_real\\W0093_profile.csv\n",
      "Processed data for site W0094 saved to C:/Users/CEEM04/OneDrive-Emily/OneDrive - UNSW/edpdatacleaning\\full_profiles_real\\W0094_profile.csv\n",
      "Processed data for site W0096 saved to C:/Users/CEEM04/OneDrive-Emily/OneDrive - UNSW/edpdatacleaning\\full_profiles_real\\W0096_profile.csv\n"
     ]
    }
   ],
   "source": [
    "\n",
    "\n",
    "def process_site(site_id, data_directory, site_filtered_data_directory, site_profiles_directory):\n",
    "    \"\"\"\n",
    "    Process all files for a given site in parallel, filter and aggregate the data, \n",
    "    and save the final result to a CSV file.\n",
    "    \"\"\"\n",
    "    # Ensure the site-specific filtered data directory exists\n",
    "    os.makedirs(site_filtered_data_directory, exist_ok=True)\n",
    "\n",
    "    # Initialize an empty list to store the aggregated dataframes\n",
    "    dfs = []\n",
    "\n",
    "    # Process each file in parallel\n",
    "    with ProcessPoolExecutor() as executor:\n",
    "        filepaths = [os.path.join(data_directory, filename) for filename in os.listdir(data_directory) if filename.endswith('.csv')]\n",
    "        futures = [executor.submit(processing.process_file, filepath, site_id) for filepath in filepaths]\n",
    "\n",
    "        # Collect results as they complete\n",
    "        for future in futures:\n",
    "            result = future.result()\n",
    "            if result is not None:\n",
    "                dfs.append(result)\n",
    "\n",
    "    # If no data was collected, skip to next site\n",
    "    if not dfs:\n",
    "        print(f\"No matching data for site {site_id}\")\n",
    "        return\n",
    "\n",
    "    # Concatenate all dataframes and sort by datetime\n",
    "    stacked_df = pd.concat(dfs, ignore_index=True)\n",
    "    stacked_df['datetime'] = pd.to_datetime(stacked_df['datetime'])\n",
    "    stacked_df.sort_values(by='datetime', inplace=True)\n",
    "\n",
    "    # Rename columns to the desired format\n",
    "    stacked_df.rename(columns={'edp_site_id': 'CUSTOMER_ID', 'datetime': 'TS', 'pv_site_net': 'PV', 'ac_load_net': 'kWh', 'load_air_conditioner': 'Air_Conditioner_Load'}, inplace=True)\n",
    "\n",
    "    # Save the final dataframe to a CSV file\n",
    "    output_filename = os.path.join(site_profiles_directory, f'{site_id}_profile.csv')\n",
    "    stacked_df.to_csv(output_filename, index=False)\n",
    "    print(f\"Processed data for site {site_id} saved to {output_filename}\")\n",
    "\n",
    "\n",
    "\n",
    "import processing\n",
    "\n",
    "\n",
    "site_ids = ['W0070', 'W0073', 'W0074', 'W0075', 'W0076', 'W0077', 'W0078', 'W0079', 'W0081', 'W0084', 'W0088', 'W0089', 'W0092', 'W0093', 'W0094', 'W0096', 'W0104', 'W0106', 'W0107', 'W0109', 'W0112', 'W0114', 'W0118', 'W0119', 'W0121', 'W0124', 'W0130', 'W0133', 'W0137', 'W0138', 'W0141', 'W0142', 'W0143', 'W0144', 'W0145', 'W0148', 'W0155', 'W0158', 'W0159', 'W0160', 'W0161', 'W0165', 'W0166', 'W0172', 'W0178', 'W0181', 'W0182', 'W0186', 'W0188', 'W0190', 'W0192', 'W0193', 'W0195', 'W0197', 'W0198', 'W0199', 'W0200', 'W0205', 'W0207', 'W0213', 'W0216', 'W0219', 'W0220', 'W0221', 'W0227', 'W0228', 'W0229', 'W0232', 'W0233', 'W0234', 'W0236', 'W0240', 'W0244', 'W0251', 'W0253', 'W0254', 'W0258', 'W0260', 'W0264', 'W0266', 'W0271', 'W0272', 'W0273', 'W0275', 'W0276', 'W0278', 'W0279', 'W0283', 'W0284', 'W0291', 'W0293', 'W0294', 'W0297', 'W0298', 'W0299', 'W0302', 'W0303', 'W0304', 'W0310', 'W0314', 'W0318', 'W0319', 'W0321', 'W0322', 'W0325', 'W0326', 'W0328', 'W0329', 'W0332', 'W0334', 'W0336', 'W0341', 'W0342', 'W0345', 'W0346', 'W0348', 'W0352']\n",
    "for site_id in site_ids:\n",
    "    site_filtered_data_directory = os.path.join(filtered_data_directory, site_id)\n",
    "    process_site(site_id, data_directory, site_filtered_data_directory, site_profiles_directory)\n",
    "    \n",
    "    \n",
    "    \n"
   ]
  },
  {
   "cell_type": "code",
   "execution_count": 5,
   "metadata": {},
   "outputs": [
    {
     "name": "stdout",
     "output_type": "stream",
     "text": [
      "There are 247 files in the directory.\n"
     ]
    }
   ],
   "source": [
    "def count_files(directory):\n",
    "    # Get a list of all files and directories in the specified directory\n",
    "    all_files = os.listdir(directory)\n",
    "    # Count only the files, excluding directories\n",
    "    file_count = sum(1 for file in all_files if os.path.isfile(os.path.join(directory, file)))\n",
    "    return file_count\n",
    "\n",
    "# Example usage\n",
    "directory_path = 'C:/Users/CEEM04/OneDrive-Emily/OneDrive - UNSW/edpdatacleaning/full_profiles'\n",
    "total_file_count = count_files(directory_path)\n",
    "print(f'There are {total_file_count} files in the directory.')"
   ]
  },
  {
   "cell_type": "code",
   "execution_count": 17,
   "metadata": {},
   "outputs": [
    {
     "name": "stdout",
     "output_type": "stream",
     "text": [
      "Files with missing data intervals of at least two weeks:\n",
      "S0024_profile.csv\n",
      "S0159_profile.csv\n",
      "S0318_profile.csv\n",
      "S0444_profile.csv\n",
      "S0470_profile.csv\n",
      "W0082_profile.csv\n",
      "W0120_profile.csv\n",
      "W0162_profile.csv\n",
      "W0175_profile.csv\n",
      "W0224_profile.csv\n",
      "W0241_profile.csv\n",
      "W0243_profile.csv\n",
      "W0315_profile.csv\n",
      "W0324_profile.csv\n",
      "W0330_profile.csv\n",
      "W0335_profile.csv\n"
     ]
    }
   ],
   "source": [
    "\n",
    "def has_missing_intervals(file_path, weeks=0.5):\n",
    "    # Read the CSV file\n",
    "    df = pd.read_csv(file_path)\n",
    "    df['TS'] = pd.to_datetime(df['TS'])\n",
    "\n",
    "    # Sort by timestamp\n",
    "    df = df.sort_values(by='TS')\n",
    "\n",
    "    # Calculate the time differences between consecutive timestamps\n",
    "    time_diffs = df['TS'].diff().dt.total_seconds().dropna()\n",
    "\n",
    "    # Check for intervals greater than the specified number of weeks\n",
    "    missing_interval = (time_diffs > weeks * 7 * 24 * 60 * 60).any()\n",
    "    \n",
    "    return missing_interval\n",
    "\n",
    "def list_files_with_missing_intervals(directory, weeks=2):\n",
    "    missing_files = []\n",
    "    for file in os.listdir(directory):\n",
    "        if file.endswith('.csv'):\n",
    "            file_path = os.path.join(directory, file)\n",
    "            if has_missing_intervals(file_path, weeks):\n",
    "                missing_files.append(file)\n",
    "    return missing_files\n",
    "\n",
    "# Example usage\n",
    "directory_path = 'C:/Users/CEEM04/OneDrive-Emily/OneDrive - UNSW/edpdatacleaning/full_profiles'\n",
    "missing_files_list = list_files_with_missing_intervals(directory_path)\n",
    "print('Files with missing data intervals of at least two weeks:')\n",
    "for missing_file in missing_files_list:\n",
    "    print(missing_file)\n"
   ]
  },
  {
   "cell_type": "code",
   "execution_count": 21,
   "metadata": {},
   "outputs": [
    {
     "name": "stdout",
     "output_type": "stream",
     "text": [
      "['S0083', 'S0089', 'S0106', 'S0107', 'S0110', 'S0111', 'W0087', 'S0173', 'S0177', 'S0179', 'S0188', 'S0199', 'S0206', 'S0208', 'S0209', 'S0216', 'S0225', 'S0227', 'S0229', 'S0230', 'S0233', 'S0238', 'S0245', 'S0249', 'S0250', 'S0260', 'S0261', 'S0268', 'S0284', 'S0291', 'S0299', 'S0301', 'S0309', 'S0314', 'S0324', 'S0337', 'S0338', 'S0339', 'S0341', 'S0349', 'S0351', 'S0353', 'S0372', 'S0376', 'S0387', 'S0392', 'S0407', 'S0410', 'S0429', 'S0430', 'S0439', 'S0451', 'S0456', 'S0462', 'S0463', 'S0482', 'S0483', 'S0495', 'S0509', 'S0516', 'S0517', 'S0545', 'S0548', 'S0562', 'S0568', 'S0569', 'S0573', 'S0576', 'S0579', 'S0586', 'S0587', 'W0001', 'W0002', 'W0003', 'W0004', 'W0005', 'W0006', 'W0008', 'W0009', 'W0010', 'W0011', 'W0013', 'W0014', 'W0016', 'W0017', 'W0018', 'W0019', 'W0023', 'W0024', 'W0026', 'W0029', 'W0031', 'W0035', 'W0037', 'W0039', 'W0040', 'W0043', 'W0044', 'W0046', 'W0047', 'W0048', 'W0049', 'W0050', 'W0051', 'W0052', 'W0056', 'W0057', 'W0058', 'W0059', 'W0060', 'W0061', 'W0062', 'W0068', 'W0069', 'W0070', 'W0073', 'W0074', 'W0075', 'W0076', 'W0077', 'W0078', 'W0079', 'W0081', 'W0084', 'W0088', 'W0089', 'W0092', 'W0093', 'W0094', 'W0096', 'W0104', 'W0106', 'W0107', 'W0109', 'W0112', 'W0114', 'W0118', 'W0119', 'W0121', 'W0124', 'W0130', 'W0133', 'W0137', 'W0138', 'W0141', 'W0142', 'W0143', 'W0144', 'W0145', 'W0148', 'W0155', 'W0158', 'W0159', 'W0160', 'W0161', 'W0165', 'W0166', 'W0172', 'W0178', 'W0181', 'W0182', 'W0186', 'W0188', 'W0190', 'W0192', 'W0193', 'W0195', 'W0197', 'W0198', 'W0199', 'W0200', 'W0205', 'W0207', 'W0213', 'W0216', 'W0219', 'W0220', 'W0221', 'W0227', 'W0228', 'W0229', 'W0232', 'W0233', 'W0234', 'W0236', 'W0240', 'W0244', 'W0251', 'W0253', 'W0254', 'W0258', 'W0260', 'W0264', 'W0266', 'W0271', 'W0272', 'W0273', 'W0275', 'W0276', 'W0278', 'W0279', 'W0283', 'W0284', 'W0291', 'W0293', 'W0294', 'W0297', 'W0298', 'W0299', 'W0302', 'W0303', 'W0304', 'W0310', 'W0314', 'W0318', 'W0319', 'W0321', 'W0322', 'W0325', 'W0326', 'W0328', 'W0329', 'W0332', 'W0334', 'W0336', 'W0341', 'W0342', 'W0345', 'W0346', 'W0348', 'W0352']\n"
     ]
    }
   ],
   "source": [
    "# change to kwh and 30 min intervals\n",
    "\n",
    "ids_to_remove = [\n",
    "    'S0024', 'S0159', 'S0318', 'S0444', 'S0470',\n",
    "    'W0082', 'W0120', 'W0162', 'W0175', 'W0224',\n",
    "    'W0241', 'W0243', 'W0315', 'W0324', 'W0330', 'W0335'\n",
    "]\n",
    "\n",
    "\n",
    "filtered_list = [site_id for site_id in site_ids if site_id not in ids_to_remove]\n",
    "\n",
    "site_ids = filtered_list\n",
    "\n",
    "print(site_ids)\n"
   ]
  },
  {
   "cell_type": "code",
   "execution_count": 28,
   "metadata": {},
   "outputs": [
    {
     "name": "stdout",
     "output_type": "stream",
     "text": [
      "Number of profiles without a PV column: 37\n"
     ]
    }
   ],
   "source": [
    "profiles_directory = 'C:/Users/CEEM04/OneDrive-Emily/OneDrive - UNSW/edpdatacleaning/resampled_30min_data'\n",
    "\n",
    "missing_pv_count = 0\n",
    "\n",
    "for filename in os.listdir(profiles_directory):\n",
    "    if filename.endswith('_profile.csv'):\n",
    "        # Read the CSV file\n",
    "        df = pd.read_csv(os.path.join(profiles_directory, filename))\n",
    "        \n",
    "        # Check if 'PV' column exists\n",
    "        if 'PV' not in df.columns:\n",
    "            missing_pv_count += 1\n",
    "\n",
    "print(f'Number of profiles without a PV column: {missing_pv_count}')\n"
   ]
  },
  {
   "cell_type": "code",
   "execution_count": 22,
   "metadata": {},
   "outputs": [],
   "source": [
    "\n",
    "\n",
    "# Iterate over each site ID\n",
    "for site_id in site_ids:\n",
    "    # Read the CSV file for the current site ID\n",
    "    df = pd.read_csv(os.path.join('full_profiles', f'{site_id}_profile.csv'))\n",
    "\n",
    "    # Convert 'TS' column to datetime and set it as index\n",
    "    df['TS'] = pd.to_datetime(df['TS'])\n",
    "    df.set_index('TS', inplace=True)\n",
    "\n",
    "    #limit the dates\n",
    "    df = df.loc['2023-01-01':'2023-12-31']\n",
    "\n",
    "    df = df.interpolate(method='linear')\n",
    "\n",
    "    # Resample the data to 30-minute intervals and take the sum of each interval, then *2 to convert from W --> Wh\n",
    "    resampled_df = df.resample('30T').sum(numeric_only=True)*2\n",
    "    \n",
    "    # Convert units from Wh to kWh\n",
    "    if 'PV' in df.columns:\n",
    "        resampled_df['PV'] /= 1000\n",
    "    resampled_df['kWh'] /= 1000\n",
    "    resampled_df['Air_Conditioner_Load'] /= 1000\n",
    "\n",
    "    # Reset index to make 'TS' a column again\n",
    "    resampled_df.reset_index(inplace=True)\n",
    "\n",
    "    # Save the resampled DataFrame to a new CSV file\n",
    "    output_filename = os.path.join(resampled_data_directory, f'{site_id}_profile.csv')\n",
    "    resampled_df.to_csv(output_filename, index=False)\n",
    "    \n"
   ]
  },
  {
   "cell_type": "code",
   "execution_count": 29,
   "metadata": {},
   "outputs": [],
   "source": [
    "import matplotlib as plt\n",
    "\n",
    "\n",
    "profiles_directory = 'C:/Users/CEEM04/OneDrive-Emily/OneDrive - UNSW/edpdatacleaning/resampled_30min_data'  # Change this to your profiles directory\n",
    "output_directory = 'C:/Users/CEEM04/OneDrive-Emily/OneDrive - UNSW/edpdatacleaning/figures'  # Change this to your output directory\n",
    "\n",
    "# Initialize lists to store daily averages\n",
    "daily_consumption = []\n",
    "daily_pv_generation = []\n",
    "daily_ac_consumption = []\n",
    "\n",
    "for filename in os.listdir(profiles_directory):\n",
    "    if filename.endswith('_profile.csv'):\n",
    "        # Read the CSV file\n",
    "        df = pd.read_csv(os.path.join(profiles_directory, filename))\n",
    "\n",
    "        # Ensure 'TS' is datetime and set it as index\n",
    "        df['TS'] = pd.to_datetime(df['TS'])\n",
    "        df.set_index('TS', inplace=True)\n",
    "\n",
    "        # Resample to daily data, summing values\n",
    "        daily_totals = df.resample('D').sum(numeric_only=True)\n",
    "\n",
    "        # Calculate daily averages\n",
    "        daily_average = daily_totals.mean()\n",
    "\n",
    "        # Append the averages to the respective lists\n",
    "        daily_consumption.append(daily_average['kWh'])  \n",
    "        if 'PV' in daily_average.index:\n",
    "            daily_pv_generation.append(daily_average['PV'])  \n",
    "        daily_ac_consumption.append(daily_average['Air_Conditioner_Load'])  \n",
    "\n"
   ]
  },
  {
   "cell_type": "code",
   "execution_count": 32,
   "metadata": {},
   "outputs": [
    {
     "data": {
      "application/vnd.plotly.v1+json": {
       "config": {
        "plotlyServerURL": "https://plot.ly"
       },
       "data": [
        {
         "marker": {
          "color": "skyblue"
         },
         "opacity": 0.75,
         "type": "histogram",
         "x": [
          41.72631745260274,
          24.37071198,
          18.75513993589041,
          35.16906757753425,
          12.043170991780821,
          30.711985881643837,
          29.757398323835613,
          9.016705406027398,
          28.698311979178076,
          54.49544220767123,
          13.46070188,
          7.35068105369863,
          54.45991418904109,
          32.990473775342466,
          27.251972293150683,
          1.3675045610958902,
          29.34963220767123,
          29.870833329315065,
          15.607023208219177,
          54.57901954849315,
          35.913528946301376,
          20.85837467671233,
          9.276536085479451,
          10.950569382465753,
          23.82495972219178,
          52.46571373863014,
          12.771014838904108,
          28.841182359999998,
          8.206517998356164,
          24.150876196986303,
          31.123565204931502,
          38.04673531013699,
          71.46869748219179,
          28.79196429534247,
          37.27334336767123,
          0.4559245090342674,
          17.763891047123288,
          34.85449992821918,
          27.01010731287671,
          30.193869112328763,
          23.379081201643835,
          11.295543108493149,
          18.865260503013698,
          17.124527130410957,
          10.97104480931507,
          23.400432950136985,
          10.990705503013697,
          39.950488300273975,
          53.15726811452055,
          19.217410986849316,
          22.77234260657534,
          25.77321909150685,
          7.198186877808219,
          6.322170929863013,
          19.77947581150685,
          17.276099519452053,
          16.89335332767123,
          25.979685370136984,
          13.244318039452056,
          19.929365437260273,
          15.138253932054795,
          15.983085175342467,
          26.253740288767123,
          10.76356330739726,
          23.56247244,
          28.915382196164387,
          20.556162579178082,
          113.01638330794522,
          37.49513918356165,
          28.28958294575342,
          30.789027049315074,
          29.256667022465752,
          51.091579816986304,
          31.867809152328768,
          11.669428133698629,
          39.489851491506855,
          22.821090984657538,
          47.30898578465754,
          26.140115040547947,
          12.91193528,
          28.42791565041096,
          23.219963389041094,
          16.64865100219178,
          39.590806514520544,
          42.57531507616439,
          3.55880144,
          47.51996364876712,
          76.74620971068492,
          15.778751575287359,
          33.34133247780822,
          25.305677850958904,
          10.457948196712328,
          39.18206867726027,
          12.659815839452053,
          10.032239383013698,
          35.78587761315069,
          29.372796150136985,
          25.38249059671233,
          46.20539733589041,
          12.841884094246575,
          7.047226811506849,
          1.5577507863013698,
          9.186324076164382,
          13.06660585589041,
          41.02699928876712,
          36.96750314027397,
          9.709734106849314,
          47.132016343013696,
          6.663876879761904,
          13.59296512109589,
          18.722991207671235,
          59.03410462301369,
          25.385654432328767,
          10.937601662465752,
          1.8970189945205476,
          7.237283503013699,
          16.706218059726027,
          26.041070533972597,
          69.51937032767123,
          3.7361239260273966,
          54.723955682191786,
          21.647931431780822,
          18.49424691452055,
          25.648692974246575,
          37.6206512060274,
          32.145872723835616,
          11.506626147945205,
          13.84945713369863,
          30.963977875616436,
          12.187836266849315,
          40.77870706712329,
          55.622900469041085,
          22.122599997260274,
          9.671463070136985,
          24.382261767671228,
          26.013353585753425,
          26.20610008383562,
          24.752785426301365,
          11.641498919452054,
          14.665565306849315,
          10.52345328767123,
          6.009320318356164,
          8.526456609315067,
          29.651445619726022,
          19.10020226630137,
          19.98515790246575,
          28.1371670230137,
          27.96419386849315,
          4.413961515068492,
          31.855381643287664,
          26.898838457534243,
          6.236712616986301,
          15.614757269041096,
          32.09678016,
          14.15750736931507,
          10.206754645479451,
          21.944245619452055,
          18.323758561643835,
          34.8865544769863,
          75.13568545753425,
          11.543129212054794,
          17.741529706849317,
          21.52090030821918,
          23.297058380821912,
          63.50754908657534,
          13.753285904657533,
          27.161414159452058,
          41.65856880986301,
          18.76139249589041,
          41.6425153830137,
          3.5098897621917797,
          24.835893823013702,
          18.706976770958903,
          68.3896465320548,
          28.6759054550685,
          16.386726482739725,
          25.020971339178086,
          32.07057653589041,
          19.000870129315064,
          12.175656299726025,
          8.710285543561644,
          14.601149583013697,
          30.964784176986303,
          22.829626767123283,
          33.53511975178082,
          23.90198232876712,
          97.21971265123288,
          4.961665048219178,
          30.976003961643837,
          26.040453830958903,
          41.716144026849314,
          16.377157673424655,
          42.90688382438356,
          8.571756220273972,
          44.2212043210959,
          10.573442926575343,
          9.630980075068493,
          62.706212217260266,
          36.44255406465753,
          82.43459616739726,
          19.781422976986303,
          61.2123098369863,
          21.37160876164383,
          24.94382114109589,
          53.95798439589041,
          0.9585306208219172,
          8.139570504657534,
          28.99391656438356,
          55.06059187835618,
          39.57010266958904,
          21.376950703013694,
          11.267156963835616,
          67.24627935304348,
          18.517529642424243,
          5.3443883676712325,
          12.010694720547944,
          24.3149965660274,
          13.301494026849314,
          61.502854066027396,
          33.2586325709589,
          142.8977512320548,
          21.273554592602743,
          26.505702392328764,
          30.378879275616445,
          36.1468610060274,
          35.041789471506846,
          5.9162646101369845,
          25.547807892602737,
          17.21686274027397,
          9.60971953150685,
          5.016388465753424
         ],
         "xbins": {
          "end": 142.8977512320548,
          "size": 7.122091336151025,
          "start": 0.4559245090342674
         }
        }
       ],
       "layout": {
        "template": {
         "data": {
          "bar": [
           {
            "error_x": {
             "color": "#2a3f5f"
            },
            "error_y": {
             "color": "#2a3f5f"
            },
            "marker": {
             "line": {
              "color": "#E5ECF6",
              "width": 0.5
             },
             "pattern": {
              "fillmode": "overlay",
              "size": 10,
              "solidity": 0.2
             }
            },
            "type": "bar"
           }
          ],
          "barpolar": [
           {
            "marker": {
             "line": {
              "color": "#E5ECF6",
              "width": 0.5
             },
             "pattern": {
              "fillmode": "overlay",
              "size": 10,
              "solidity": 0.2
             }
            },
            "type": "barpolar"
           }
          ],
          "carpet": [
           {
            "aaxis": {
             "endlinecolor": "#2a3f5f",
             "gridcolor": "white",
             "linecolor": "white",
             "minorgridcolor": "white",
             "startlinecolor": "#2a3f5f"
            },
            "baxis": {
             "endlinecolor": "#2a3f5f",
             "gridcolor": "white",
             "linecolor": "white",
             "minorgridcolor": "white",
             "startlinecolor": "#2a3f5f"
            },
            "type": "carpet"
           }
          ],
          "choropleth": [
           {
            "colorbar": {
             "outlinewidth": 0,
             "ticks": ""
            },
            "type": "choropleth"
           }
          ],
          "contour": [
           {
            "colorbar": {
             "outlinewidth": 0,
             "ticks": ""
            },
            "colorscale": [
             [
              0,
              "#0d0887"
             ],
             [
              0.1111111111111111,
              "#46039f"
             ],
             [
              0.2222222222222222,
              "#7201a8"
             ],
             [
              0.3333333333333333,
              "#9c179e"
             ],
             [
              0.4444444444444444,
              "#bd3786"
             ],
             [
              0.5555555555555556,
              "#d8576b"
             ],
             [
              0.6666666666666666,
              "#ed7953"
             ],
             [
              0.7777777777777778,
              "#fb9f3a"
             ],
             [
              0.8888888888888888,
              "#fdca26"
             ],
             [
              1,
              "#f0f921"
             ]
            ],
            "type": "contour"
           }
          ],
          "contourcarpet": [
           {
            "colorbar": {
             "outlinewidth": 0,
             "ticks": ""
            },
            "type": "contourcarpet"
           }
          ],
          "heatmap": [
           {
            "colorbar": {
             "outlinewidth": 0,
             "ticks": ""
            },
            "colorscale": [
             [
              0,
              "#0d0887"
             ],
             [
              0.1111111111111111,
              "#46039f"
             ],
             [
              0.2222222222222222,
              "#7201a8"
             ],
             [
              0.3333333333333333,
              "#9c179e"
             ],
             [
              0.4444444444444444,
              "#bd3786"
             ],
             [
              0.5555555555555556,
              "#d8576b"
             ],
             [
              0.6666666666666666,
              "#ed7953"
             ],
             [
              0.7777777777777778,
              "#fb9f3a"
             ],
             [
              0.8888888888888888,
              "#fdca26"
             ],
             [
              1,
              "#f0f921"
             ]
            ],
            "type": "heatmap"
           }
          ],
          "heatmapgl": [
           {
            "colorbar": {
             "outlinewidth": 0,
             "ticks": ""
            },
            "colorscale": [
             [
              0,
              "#0d0887"
             ],
             [
              0.1111111111111111,
              "#46039f"
             ],
             [
              0.2222222222222222,
              "#7201a8"
             ],
             [
              0.3333333333333333,
              "#9c179e"
             ],
             [
              0.4444444444444444,
              "#bd3786"
             ],
             [
              0.5555555555555556,
              "#d8576b"
             ],
             [
              0.6666666666666666,
              "#ed7953"
             ],
             [
              0.7777777777777778,
              "#fb9f3a"
             ],
             [
              0.8888888888888888,
              "#fdca26"
             ],
             [
              1,
              "#f0f921"
             ]
            ],
            "type": "heatmapgl"
           }
          ],
          "histogram": [
           {
            "marker": {
             "pattern": {
              "fillmode": "overlay",
              "size": 10,
              "solidity": 0.2
             }
            },
            "type": "histogram"
           }
          ],
          "histogram2d": [
           {
            "colorbar": {
             "outlinewidth": 0,
             "ticks": ""
            },
            "colorscale": [
             [
              0,
              "#0d0887"
             ],
             [
              0.1111111111111111,
              "#46039f"
             ],
             [
              0.2222222222222222,
              "#7201a8"
             ],
             [
              0.3333333333333333,
              "#9c179e"
             ],
             [
              0.4444444444444444,
              "#bd3786"
             ],
             [
              0.5555555555555556,
              "#d8576b"
             ],
             [
              0.6666666666666666,
              "#ed7953"
             ],
             [
              0.7777777777777778,
              "#fb9f3a"
             ],
             [
              0.8888888888888888,
              "#fdca26"
             ],
             [
              1,
              "#f0f921"
             ]
            ],
            "type": "histogram2d"
           }
          ],
          "histogram2dcontour": [
           {
            "colorbar": {
             "outlinewidth": 0,
             "ticks": ""
            },
            "colorscale": [
             [
              0,
              "#0d0887"
             ],
             [
              0.1111111111111111,
              "#46039f"
             ],
             [
              0.2222222222222222,
              "#7201a8"
             ],
             [
              0.3333333333333333,
              "#9c179e"
             ],
             [
              0.4444444444444444,
              "#bd3786"
             ],
             [
              0.5555555555555556,
              "#d8576b"
             ],
             [
              0.6666666666666666,
              "#ed7953"
             ],
             [
              0.7777777777777778,
              "#fb9f3a"
             ],
             [
              0.8888888888888888,
              "#fdca26"
             ],
             [
              1,
              "#f0f921"
             ]
            ],
            "type": "histogram2dcontour"
           }
          ],
          "mesh3d": [
           {
            "colorbar": {
             "outlinewidth": 0,
             "ticks": ""
            },
            "type": "mesh3d"
           }
          ],
          "parcoords": [
           {
            "line": {
             "colorbar": {
              "outlinewidth": 0,
              "ticks": ""
             }
            },
            "type": "parcoords"
           }
          ],
          "pie": [
           {
            "automargin": true,
            "type": "pie"
           }
          ],
          "scatter": [
           {
            "fillpattern": {
             "fillmode": "overlay",
             "size": 10,
             "solidity": 0.2
            },
            "type": "scatter"
           }
          ],
          "scatter3d": [
           {
            "line": {
             "colorbar": {
              "outlinewidth": 0,
              "ticks": ""
             }
            },
            "marker": {
             "colorbar": {
              "outlinewidth": 0,
              "ticks": ""
             }
            },
            "type": "scatter3d"
           }
          ],
          "scattercarpet": [
           {
            "marker": {
             "colorbar": {
              "outlinewidth": 0,
              "ticks": ""
             }
            },
            "type": "scattercarpet"
           }
          ],
          "scattergeo": [
           {
            "marker": {
             "colorbar": {
              "outlinewidth": 0,
              "ticks": ""
             }
            },
            "type": "scattergeo"
           }
          ],
          "scattergl": [
           {
            "marker": {
             "colorbar": {
              "outlinewidth": 0,
              "ticks": ""
             }
            },
            "type": "scattergl"
           }
          ],
          "scattermapbox": [
           {
            "marker": {
             "colorbar": {
              "outlinewidth": 0,
              "ticks": ""
             }
            },
            "type": "scattermapbox"
           }
          ],
          "scatterpolar": [
           {
            "marker": {
             "colorbar": {
              "outlinewidth": 0,
              "ticks": ""
             }
            },
            "type": "scatterpolar"
           }
          ],
          "scatterpolargl": [
           {
            "marker": {
             "colorbar": {
              "outlinewidth": 0,
              "ticks": ""
             }
            },
            "type": "scatterpolargl"
           }
          ],
          "scatterternary": [
           {
            "marker": {
             "colorbar": {
              "outlinewidth": 0,
              "ticks": ""
             }
            },
            "type": "scatterternary"
           }
          ],
          "surface": [
           {
            "colorbar": {
             "outlinewidth": 0,
             "ticks": ""
            },
            "colorscale": [
             [
              0,
              "#0d0887"
             ],
             [
              0.1111111111111111,
              "#46039f"
             ],
             [
              0.2222222222222222,
              "#7201a8"
             ],
             [
              0.3333333333333333,
              "#9c179e"
             ],
             [
              0.4444444444444444,
              "#bd3786"
             ],
             [
              0.5555555555555556,
              "#d8576b"
             ],
             [
              0.6666666666666666,
              "#ed7953"
             ],
             [
              0.7777777777777778,
              "#fb9f3a"
             ],
             [
              0.8888888888888888,
              "#fdca26"
             ],
             [
              1,
              "#f0f921"
             ]
            ],
            "type": "surface"
           }
          ],
          "table": [
           {
            "cells": {
             "fill": {
              "color": "#EBF0F8"
             },
             "line": {
              "color": "white"
             }
            },
            "header": {
             "fill": {
              "color": "#C8D4E3"
             },
             "line": {
              "color": "white"
             }
            },
            "type": "table"
           }
          ]
         },
         "layout": {
          "annotationdefaults": {
           "arrowcolor": "#2a3f5f",
           "arrowhead": 0,
           "arrowwidth": 1
          },
          "autotypenumbers": "strict",
          "coloraxis": {
           "colorbar": {
            "outlinewidth": 0,
            "ticks": ""
           }
          },
          "colorscale": {
           "diverging": [
            [
             0,
             "#8e0152"
            ],
            [
             0.1,
             "#c51b7d"
            ],
            [
             0.2,
             "#de77ae"
            ],
            [
             0.3,
             "#f1b6da"
            ],
            [
             0.4,
             "#fde0ef"
            ],
            [
             0.5,
             "#f7f7f7"
            ],
            [
             0.6,
             "#e6f5d0"
            ],
            [
             0.7,
             "#b8e186"
            ],
            [
             0.8,
             "#7fbc41"
            ],
            [
             0.9,
             "#4d9221"
            ],
            [
             1,
             "#276419"
            ]
           ],
           "sequential": [
            [
             0,
             "#0d0887"
            ],
            [
             0.1111111111111111,
             "#46039f"
            ],
            [
             0.2222222222222222,
             "#7201a8"
            ],
            [
             0.3333333333333333,
             "#9c179e"
            ],
            [
             0.4444444444444444,
             "#bd3786"
            ],
            [
             0.5555555555555556,
             "#d8576b"
            ],
            [
             0.6666666666666666,
             "#ed7953"
            ],
            [
             0.7777777777777778,
             "#fb9f3a"
            ],
            [
             0.8888888888888888,
             "#fdca26"
            ],
            [
             1,
             "#f0f921"
            ]
           ],
           "sequentialminus": [
            [
             0,
             "#0d0887"
            ],
            [
             0.1111111111111111,
             "#46039f"
            ],
            [
             0.2222222222222222,
             "#7201a8"
            ],
            [
             0.3333333333333333,
             "#9c179e"
            ],
            [
             0.4444444444444444,
             "#bd3786"
            ],
            [
             0.5555555555555556,
             "#d8576b"
            ],
            [
             0.6666666666666666,
             "#ed7953"
            ],
            [
             0.7777777777777778,
             "#fb9f3a"
            ],
            [
             0.8888888888888888,
             "#fdca26"
            ],
            [
             1,
             "#f0f921"
            ]
           ]
          },
          "colorway": [
           "#636efa",
           "#EF553B",
           "#00cc96",
           "#ab63fa",
           "#FFA15A",
           "#19d3f3",
           "#FF6692",
           "#B6E880",
           "#FF97FF",
           "#FECB52"
          ],
          "font": {
           "color": "#2a3f5f"
          },
          "geo": {
           "bgcolor": "white",
           "lakecolor": "white",
           "landcolor": "#E5ECF6",
           "showlakes": true,
           "showland": true,
           "subunitcolor": "white"
          },
          "hoverlabel": {
           "align": "left"
          },
          "hovermode": "closest",
          "mapbox": {
           "style": "light"
          },
          "paper_bgcolor": "white",
          "plot_bgcolor": "#E5ECF6",
          "polar": {
           "angularaxis": {
            "gridcolor": "white",
            "linecolor": "white",
            "ticks": ""
           },
           "bgcolor": "#E5ECF6",
           "radialaxis": {
            "gridcolor": "white",
            "linecolor": "white",
            "ticks": ""
           }
          },
          "scene": {
           "xaxis": {
            "backgroundcolor": "#E5ECF6",
            "gridcolor": "white",
            "gridwidth": 2,
            "linecolor": "white",
            "showbackground": true,
            "ticks": "",
            "zerolinecolor": "white"
           },
           "yaxis": {
            "backgroundcolor": "#E5ECF6",
            "gridcolor": "white",
            "gridwidth": 2,
            "linecolor": "white",
            "showbackground": true,
            "ticks": "",
            "zerolinecolor": "white"
           },
           "zaxis": {
            "backgroundcolor": "#E5ECF6",
            "gridcolor": "white",
            "gridwidth": 2,
            "linecolor": "white",
            "showbackground": true,
            "ticks": "",
            "zerolinecolor": "white"
           }
          },
          "shapedefaults": {
           "line": {
            "color": "#2a3f5f"
           }
          },
          "ternary": {
           "aaxis": {
            "gridcolor": "white",
            "linecolor": "white",
            "ticks": ""
           },
           "baxis": {
            "gridcolor": "white",
            "linecolor": "white",
            "ticks": ""
           },
           "bgcolor": "#E5ECF6",
           "caxis": {
            "gridcolor": "white",
            "linecolor": "white",
            "ticks": ""
           }
          },
          "title": {
           "x": 0.05
          },
          "xaxis": {
           "automargin": true,
           "gridcolor": "white",
           "linecolor": "white",
           "ticks": "",
           "title": {
            "standoff": 15
           },
           "zerolinecolor": "white",
           "zerolinewidth": 2
          },
          "yaxis": {
           "automargin": true,
           "gridcolor": "white",
           "linecolor": "white",
           "ticks": "",
           "title": {
            "standoff": 15
           },
           "zerolinecolor": "white",
           "zerolinewidth": 2
          }
         }
        },
        "title": {
         "text": "Average Daily Total Household Consumption"
        },
        "xaxis": {
         "title": {
          "text": "kWh"
         },
         "zeroline": false
        },
        "yaxis": {
         "title": {
          "text": "Frequency"
         },
         "zeroline": false
        }
       }
      }
     },
     "metadata": {},
     "output_type": "display_data"
    },
    {
     "data": {
      "application/vnd.plotly.v1+json": {
       "config": {
        "plotlyServerURL": "https://plot.ly"
       },
       "data": [
        {
         "marker": {
          "color": "skyblue"
         },
         "opacity": 0.75,
         "type": "histogram",
         "x": [
          53.616501052602736,
          33.00028954082192,
          15.06197573041096,
          19.00433680493151,
          9.876199010410957,
          27.3426496569863,
          37.807880724383566,
          15.78396258849315,
          28.939630918356166,
          58.46441845205479,
          55.5944003830137,
          47.33731177424657,
          44.793230380821925,
          74.91855258082191,
          38.30458508876712,
          50.383177768219184,
          37.77442390904109,
          33.99476724712329,
          54.14277018794521,
          44.00302632328767,
          23.691925104657535,
          55.62243545972603,
          39.93109116547945,
          54.07517113479452,
          57.21129610684931,
          53.170864465753425,
          44.085686906301376,
          22.239144560000003,
          23.779039747945205,
          97.59545971863011,
          23.83110437863014,
          32.007225672876714,
          25.772706666301367,
          38.30622428109589,
          71.2422954460274,
          41.101637271651086,
          52.38458005369864,
          37.148480913424656,
          41.87110072383562,
          32.24967864657534,
          44.77131748219178,
          21.543383442739724,
          78.82999550246576,
          22.651944555068493,
          37.15157809315069,
          35.25713741150685,
          45.17501079671233,
          50.62223172547945,
          33.01396127178082,
          39.43517382465754,
          38.758354006575345,
          50.93092714958904,
          36.80544804273973,
          48.34642353753425,
          51.80600905917808,
          82.26084496493151,
          70.5339286909589,
          60.93274596054795,
          14.054998141369861,
          22.687500940821916,
          40.55109147013699,
          41.94637088821917,
          43.02834942684932,
          52.3830991150685,
          43.66220242739726,
          46.22905881753425,
          48.74301500054794,
          77.68327342301369,
          23.55427079561644,
          90.90955161589042,
          11.855098990684933,
          38.76814285260274,
          31.58104534410959,
          8.52456062410959,
          14.862061111232876,
          56.91635129589041,
          43.12196309315068,
          48.09312928493151,
          34.86653877315069,
          81.17087153150685,
          34.64882723232877,
          47.143154502465755,
          19.668222763793104,
          0.012357926027396953,
          19.51560180931507,
          32.64970581753425,
          26.374470566575344,
          42.73486813917808,
          3.9449350169863004,
          47.42522754520547,
          20.244244084931506,
          52.02091914410959,
          27.591126482739725,
          8.217675599452056,
          62.206283585205476,
          50.53690880657534,
          45.80056434246575,
          24.96203798191781,
          31.959894570410956,
          2.713756280547945,
          19.506019082739726,
          10.169317990136987,
          46.11463631123288,
          34.55533801369863,
          49.399344039999995,
          82.38311916328767,
          75.07172894602739,
          94.20404521095892,
          37.6546234679452,
          60.99245369260274,
          58.43666845369864,
          41.85391993260274,
          46.323308728767124,
          22.46761554136986,
          46.92007348054795,
          25.843609762191782,
          51.32999821589041,
          49.8012471079452,
          38.538285353424655,
          54.39106286246575,
          73.3004542441096,
          23.65681900383562,
          39.60869043945206,
          86.00553166575342,
          48.494780627945204,
          28.210584161643833,
          49.2674994139726,
          40.91141403178082,
          38.64384347972603,
          51.34875531178083,
          43.63685558136986,
          56.2523551630137,
          57.06043259835617,
          54.69062140904109,
          64.60610085506849,
          65.06185080821918,
          42.42306903726027,
          82.03731084821918,
          45.95060608958904,
          50.87146013863014,
          34.81437400109589,
          63.76363147260274,
          50.54848154136987,
          44.64430824520548,
          45.98530542465754,
          45.90413945917808,
          54.312024714520554,
          46.94441530136986,
          36.37931342575342,
          45.05093860986302,
          127.19091314520549,
          57.23970345315069,
          29.54723046520548,
          44.26548998136987,
          64.7600157290411,
          66.59986505369862,
          41.42580866520548,
          25.194902463013698,
          43.137934353424654,
          47.487847398356166,
          33.834850447671236,
          67.44182081479454,
          47.38605924876712,
          28.475981569863013,
          51.62930760986301,
          143.74853630739725,
          129.2030421430137,
          15.70545288328767,
          53.99067106109589,
          33.69533826520548,
          44.20974359726027,
          35.14118476602739,
          39.91021057589041,
          14.09918045917808,
          43.633219210958906,
          31.105972453150684,
          51.237266798904116,
          36.28314976782608,
          87.62750617438016,
          25.19433982684932,
          44.86703739726027,
          44.33310182739726,
          121.0328818830137,
          72.58810326739726,
          155.51179428383563,
          128.56152365178082,
          18.751676551232876,
          37.8558568,
          28.206805016438356,
          48.79138978027397,
          46.8868158,
          45.06656312164384,
          37.21107748767123,
          29.389457433972602
         ],
         "xbins": {
          "end": 155.51179428383563,
          "size": 7.774971817890412,
          "start": 0.012357926027396953
         }
        }
       ],
       "layout": {
        "template": {
         "data": {
          "bar": [
           {
            "error_x": {
             "color": "#2a3f5f"
            },
            "error_y": {
             "color": "#2a3f5f"
            },
            "marker": {
             "line": {
              "color": "#E5ECF6",
              "width": 0.5
             },
             "pattern": {
              "fillmode": "overlay",
              "size": 10,
              "solidity": 0.2
             }
            },
            "type": "bar"
           }
          ],
          "barpolar": [
           {
            "marker": {
             "line": {
              "color": "#E5ECF6",
              "width": 0.5
             },
             "pattern": {
              "fillmode": "overlay",
              "size": 10,
              "solidity": 0.2
             }
            },
            "type": "barpolar"
           }
          ],
          "carpet": [
           {
            "aaxis": {
             "endlinecolor": "#2a3f5f",
             "gridcolor": "white",
             "linecolor": "white",
             "minorgridcolor": "white",
             "startlinecolor": "#2a3f5f"
            },
            "baxis": {
             "endlinecolor": "#2a3f5f",
             "gridcolor": "white",
             "linecolor": "white",
             "minorgridcolor": "white",
             "startlinecolor": "#2a3f5f"
            },
            "type": "carpet"
           }
          ],
          "choropleth": [
           {
            "colorbar": {
             "outlinewidth": 0,
             "ticks": ""
            },
            "type": "choropleth"
           }
          ],
          "contour": [
           {
            "colorbar": {
             "outlinewidth": 0,
             "ticks": ""
            },
            "colorscale": [
             [
              0,
              "#0d0887"
             ],
             [
              0.1111111111111111,
              "#46039f"
             ],
             [
              0.2222222222222222,
              "#7201a8"
             ],
             [
              0.3333333333333333,
              "#9c179e"
             ],
             [
              0.4444444444444444,
              "#bd3786"
             ],
             [
              0.5555555555555556,
              "#d8576b"
             ],
             [
              0.6666666666666666,
              "#ed7953"
             ],
             [
              0.7777777777777778,
              "#fb9f3a"
             ],
             [
              0.8888888888888888,
              "#fdca26"
             ],
             [
              1,
              "#f0f921"
             ]
            ],
            "type": "contour"
           }
          ],
          "contourcarpet": [
           {
            "colorbar": {
             "outlinewidth": 0,
             "ticks": ""
            },
            "type": "contourcarpet"
           }
          ],
          "heatmap": [
           {
            "colorbar": {
             "outlinewidth": 0,
             "ticks": ""
            },
            "colorscale": [
             [
              0,
              "#0d0887"
             ],
             [
              0.1111111111111111,
              "#46039f"
             ],
             [
              0.2222222222222222,
              "#7201a8"
             ],
             [
              0.3333333333333333,
              "#9c179e"
             ],
             [
              0.4444444444444444,
              "#bd3786"
             ],
             [
              0.5555555555555556,
              "#d8576b"
             ],
             [
              0.6666666666666666,
              "#ed7953"
             ],
             [
              0.7777777777777778,
              "#fb9f3a"
             ],
             [
              0.8888888888888888,
              "#fdca26"
             ],
             [
              1,
              "#f0f921"
             ]
            ],
            "type": "heatmap"
           }
          ],
          "heatmapgl": [
           {
            "colorbar": {
             "outlinewidth": 0,
             "ticks": ""
            },
            "colorscale": [
             [
              0,
              "#0d0887"
             ],
             [
              0.1111111111111111,
              "#46039f"
             ],
             [
              0.2222222222222222,
              "#7201a8"
             ],
             [
              0.3333333333333333,
              "#9c179e"
             ],
             [
              0.4444444444444444,
              "#bd3786"
             ],
             [
              0.5555555555555556,
              "#d8576b"
             ],
             [
              0.6666666666666666,
              "#ed7953"
             ],
             [
              0.7777777777777778,
              "#fb9f3a"
             ],
             [
              0.8888888888888888,
              "#fdca26"
             ],
             [
              1,
              "#f0f921"
             ]
            ],
            "type": "heatmapgl"
           }
          ],
          "histogram": [
           {
            "marker": {
             "pattern": {
              "fillmode": "overlay",
              "size": 10,
              "solidity": 0.2
             }
            },
            "type": "histogram"
           }
          ],
          "histogram2d": [
           {
            "colorbar": {
             "outlinewidth": 0,
             "ticks": ""
            },
            "colorscale": [
             [
              0,
              "#0d0887"
             ],
             [
              0.1111111111111111,
              "#46039f"
             ],
             [
              0.2222222222222222,
              "#7201a8"
             ],
             [
              0.3333333333333333,
              "#9c179e"
             ],
             [
              0.4444444444444444,
              "#bd3786"
             ],
             [
              0.5555555555555556,
              "#d8576b"
             ],
             [
              0.6666666666666666,
              "#ed7953"
             ],
             [
              0.7777777777777778,
              "#fb9f3a"
             ],
             [
              0.8888888888888888,
              "#fdca26"
             ],
             [
              1,
              "#f0f921"
             ]
            ],
            "type": "histogram2d"
           }
          ],
          "histogram2dcontour": [
           {
            "colorbar": {
             "outlinewidth": 0,
             "ticks": ""
            },
            "colorscale": [
             [
              0,
              "#0d0887"
             ],
             [
              0.1111111111111111,
              "#46039f"
             ],
             [
              0.2222222222222222,
              "#7201a8"
             ],
             [
              0.3333333333333333,
              "#9c179e"
             ],
             [
              0.4444444444444444,
              "#bd3786"
             ],
             [
              0.5555555555555556,
              "#d8576b"
             ],
             [
              0.6666666666666666,
              "#ed7953"
             ],
             [
              0.7777777777777778,
              "#fb9f3a"
             ],
             [
              0.8888888888888888,
              "#fdca26"
             ],
             [
              1,
              "#f0f921"
             ]
            ],
            "type": "histogram2dcontour"
           }
          ],
          "mesh3d": [
           {
            "colorbar": {
             "outlinewidth": 0,
             "ticks": ""
            },
            "type": "mesh3d"
           }
          ],
          "parcoords": [
           {
            "line": {
             "colorbar": {
              "outlinewidth": 0,
              "ticks": ""
             }
            },
            "type": "parcoords"
           }
          ],
          "pie": [
           {
            "automargin": true,
            "type": "pie"
           }
          ],
          "scatter": [
           {
            "fillpattern": {
             "fillmode": "overlay",
             "size": 10,
             "solidity": 0.2
            },
            "type": "scatter"
           }
          ],
          "scatter3d": [
           {
            "line": {
             "colorbar": {
              "outlinewidth": 0,
              "ticks": ""
             }
            },
            "marker": {
             "colorbar": {
              "outlinewidth": 0,
              "ticks": ""
             }
            },
            "type": "scatter3d"
           }
          ],
          "scattercarpet": [
           {
            "marker": {
             "colorbar": {
              "outlinewidth": 0,
              "ticks": ""
             }
            },
            "type": "scattercarpet"
           }
          ],
          "scattergeo": [
           {
            "marker": {
             "colorbar": {
              "outlinewidth": 0,
              "ticks": ""
             }
            },
            "type": "scattergeo"
           }
          ],
          "scattergl": [
           {
            "marker": {
             "colorbar": {
              "outlinewidth": 0,
              "ticks": ""
             }
            },
            "type": "scattergl"
           }
          ],
          "scattermapbox": [
           {
            "marker": {
             "colorbar": {
              "outlinewidth": 0,
              "ticks": ""
             }
            },
            "type": "scattermapbox"
           }
          ],
          "scatterpolar": [
           {
            "marker": {
             "colorbar": {
              "outlinewidth": 0,
              "ticks": ""
             }
            },
            "type": "scatterpolar"
           }
          ],
          "scatterpolargl": [
           {
            "marker": {
             "colorbar": {
              "outlinewidth": 0,
              "ticks": ""
             }
            },
            "type": "scatterpolargl"
           }
          ],
          "scatterternary": [
           {
            "marker": {
             "colorbar": {
              "outlinewidth": 0,
              "ticks": ""
             }
            },
            "type": "scatterternary"
           }
          ],
          "surface": [
           {
            "colorbar": {
             "outlinewidth": 0,
             "ticks": ""
            },
            "colorscale": [
             [
              0,
              "#0d0887"
             ],
             [
              0.1111111111111111,
              "#46039f"
             ],
             [
              0.2222222222222222,
              "#7201a8"
             ],
             [
              0.3333333333333333,
              "#9c179e"
             ],
             [
              0.4444444444444444,
              "#bd3786"
             ],
             [
              0.5555555555555556,
              "#d8576b"
             ],
             [
              0.6666666666666666,
              "#ed7953"
             ],
             [
              0.7777777777777778,
              "#fb9f3a"
             ],
             [
              0.8888888888888888,
              "#fdca26"
             ],
             [
              1,
              "#f0f921"
             ]
            ],
            "type": "surface"
           }
          ],
          "table": [
           {
            "cells": {
             "fill": {
              "color": "#EBF0F8"
             },
             "line": {
              "color": "white"
             }
            },
            "header": {
             "fill": {
              "color": "#C8D4E3"
             },
             "line": {
              "color": "white"
             }
            },
            "type": "table"
           }
          ]
         },
         "layout": {
          "annotationdefaults": {
           "arrowcolor": "#2a3f5f",
           "arrowhead": 0,
           "arrowwidth": 1
          },
          "autotypenumbers": "strict",
          "coloraxis": {
           "colorbar": {
            "outlinewidth": 0,
            "ticks": ""
           }
          },
          "colorscale": {
           "diverging": [
            [
             0,
             "#8e0152"
            ],
            [
             0.1,
             "#c51b7d"
            ],
            [
             0.2,
             "#de77ae"
            ],
            [
             0.3,
             "#f1b6da"
            ],
            [
             0.4,
             "#fde0ef"
            ],
            [
             0.5,
             "#f7f7f7"
            ],
            [
             0.6,
             "#e6f5d0"
            ],
            [
             0.7,
             "#b8e186"
            ],
            [
             0.8,
             "#7fbc41"
            ],
            [
             0.9,
             "#4d9221"
            ],
            [
             1,
             "#276419"
            ]
           ],
           "sequential": [
            [
             0,
             "#0d0887"
            ],
            [
             0.1111111111111111,
             "#46039f"
            ],
            [
             0.2222222222222222,
             "#7201a8"
            ],
            [
             0.3333333333333333,
             "#9c179e"
            ],
            [
             0.4444444444444444,
             "#bd3786"
            ],
            [
             0.5555555555555556,
             "#d8576b"
            ],
            [
             0.6666666666666666,
             "#ed7953"
            ],
            [
             0.7777777777777778,
             "#fb9f3a"
            ],
            [
             0.8888888888888888,
             "#fdca26"
            ],
            [
             1,
             "#f0f921"
            ]
           ],
           "sequentialminus": [
            [
             0,
             "#0d0887"
            ],
            [
             0.1111111111111111,
             "#46039f"
            ],
            [
             0.2222222222222222,
             "#7201a8"
            ],
            [
             0.3333333333333333,
             "#9c179e"
            ],
            [
             0.4444444444444444,
             "#bd3786"
            ],
            [
             0.5555555555555556,
             "#d8576b"
            ],
            [
             0.6666666666666666,
             "#ed7953"
            ],
            [
             0.7777777777777778,
             "#fb9f3a"
            ],
            [
             0.8888888888888888,
             "#fdca26"
            ],
            [
             1,
             "#f0f921"
            ]
           ]
          },
          "colorway": [
           "#636efa",
           "#EF553B",
           "#00cc96",
           "#ab63fa",
           "#FFA15A",
           "#19d3f3",
           "#FF6692",
           "#B6E880",
           "#FF97FF",
           "#FECB52"
          ],
          "font": {
           "color": "#2a3f5f"
          },
          "geo": {
           "bgcolor": "white",
           "lakecolor": "white",
           "landcolor": "#E5ECF6",
           "showlakes": true,
           "showland": true,
           "subunitcolor": "white"
          },
          "hoverlabel": {
           "align": "left"
          },
          "hovermode": "closest",
          "mapbox": {
           "style": "light"
          },
          "paper_bgcolor": "white",
          "plot_bgcolor": "#E5ECF6",
          "polar": {
           "angularaxis": {
            "gridcolor": "white",
            "linecolor": "white",
            "ticks": ""
           },
           "bgcolor": "#E5ECF6",
           "radialaxis": {
            "gridcolor": "white",
            "linecolor": "white",
            "ticks": ""
           }
          },
          "scene": {
           "xaxis": {
            "backgroundcolor": "#E5ECF6",
            "gridcolor": "white",
            "gridwidth": 2,
            "linecolor": "white",
            "showbackground": true,
            "ticks": "",
            "zerolinecolor": "white"
           },
           "yaxis": {
            "backgroundcolor": "#E5ECF6",
            "gridcolor": "white",
            "gridwidth": 2,
            "linecolor": "white",
            "showbackground": true,
            "ticks": "",
            "zerolinecolor": "white"
           },
           "zaxis": {
            "backgroundcolor": "#E5ECF6",
            "gridcolor": "white",
            "gridwidth": 2,
            "linecolor": "white",
            "showbackground": true,
            "ticks": "",
            "zerolinecolor": "white"
           }
          },
          "shapedefaults": {
           "line": {
            "color": "#2a3f5f"
           }
          },
          "ternary": {
           "aaxis": {
            "gridcolor": "white",
            "linecolor": "white",
            "ticks": ""
           },
           "baxis": {
            "gridcolor": "white",
            "linecolor": "white",
            "ticks": ""
           },
           "bgcolor": "#E5ECF6",
           "caxis": {
            "gridcolor": "white",
            "linecolor": "white",
            "ticks": ""
           }
          },
          "title": {
           "x": 0.05
          },
          "xaxis": {
           "automargin": true,
           "gridcolor": "white",
           "linecolor": "white",
           "ticks": "",
           "title": {
            "standoff": 15
           },
           "zerolinecolor": "white",
           "zerolinewidth": 2
          },
          "yaxis": {
           "automargin": true,
           "gridcolor": "white",
           "linecolor": "white",
           "ticks": "",
           "title": {
            "standoff": 15
           },
           "zerolinecolor": "white",
           "zerolinewidth": 2
          }
         }
        },
        "title": {
         "text": "Average Daily PV Generation"
        },
        "xaxis": {
         "title": {
          "text": "kWh"
         },
         "zeroline": false
        },
        "yaxis": {
         "title": {
          "text": "Frequency"
         },
         "zeroline": false
        }
       }
      }
     },
     "metadata": {},
     "output_type": "display_data"
    },
    {
     "data": {
      "application/vnd.plotly.v1+json": {
       "config": {
        "plotlyServerURL": "https://plot.ly"
       },
       "data": [
        {
         "marker": {
          "color": "skyblue"
         },
         "opacity": 0.75,
         "type": "histogram",
         "x": [
          3.637972432876712,
          1.0785694928767118,
          0.03747989808219133,
          1.629974260273972,
          2.233749774794517,
          1.1292956076712322,
          1.4392573972602736,
          5.137534641643835,
          0.35963213698630103,
          33.12902258630137,
          2.4523182065753413,
          11.798849472328765,
          29.13191213808219,
          4.691560924657534,
          11.193829432876711,
          0.5734707769863011,
          20.99984977479452,
          45.50938629643836,
          20.99175008328767,
          41.18813141808219,
          1.7383674273972596,
          24.252025801643835,
          3.046413043287671,
          3.7882305331506845,
          8.887653992876713,
          44.3473527090411,
          17.90681229479452,
          14.57900568109589,
          4.011735604383561,
          13.899137927671234,
          8.118952452054794,
          3.6367854257534242,
          27.391212958904113,
          33.790891748493145,
          10.513163067397262,
          2.2715925239875383,
          3.2519996252054786,
          27.945723230684933,
          7.241387770958904,
          18.217148855342465,
          0.01506751726027395,
          3.7142055172602726,
          20.210362738082193,
          1.6073547610958896,
          4.21270744109589,
          18.047865832876713,
          4.646321927671233,
          6.52712549589041,
          33.902377355068495,
          4.966871324383561,
          3.5788051293150676,
          14.547621409315068,
          1.028696585753424,
          0.877786184109589,
          8.480558523835617,
          1.5079327736986297,
          0.000033326027397260275,
          9.664319196164383,
          0.6526454569863007,
          7.9457305775342455,
          6.355207659178081,
          0.1177893632876705,
          1.3666476071232871,
          0.0033235753424655564,
          0.000211627397260274,
          10.643686156164383,
          16.153570058630137,
          2.143373298356164,
          2.4819765452054785,
          24.879567119452055,
          3.6165469057534243,
          10.225715024657534,
          21.611497616986302,
          22.126616827945206,
          0.36291025315068426,
          1.9721024915068486,
          1.6958477172602733,
          12.253625647671234,
          17.266728081095888,
          7.5378478882191775,
          5.202011109041095,
          10.700054918356164,
          14.869413575342467,
          10.32652648438356,
          23.480221991232874,
          0.6369037139726024,
          12.973849063561643,
          36.50295481808219,
          4.000748429885057,
          5.489515693150684,
          16.111578653150683,
          0.6050004345205473,
          12.938874135342465,
          2.6381841561643826,
          5.707778512876713,
          24.573871437260273,
          2.2416284158904105,
          5.208600039452054,
          14.830789073972602,
          3.293261900273972,
          2.492511406027397,
          3.7521781846575335,
          8.162185581917809,
          2.9402346427397252,
          11.09261689479452,
          5.919115776986301,
          0.752197710684931,
          1.6508733336986297,
          7.864010849999998,
          0.18039816821917806,
          2.4076763035616437,
          6.2285854975342465,
          5.8388004147945205,
          1.7258354405479448,
          1.7543253041095885,
          0.04089133863013638,
          2.5924466799999992,
          2.179626971780821,
          15.037933833424654,
          2.2453298668493145,
          8.003204593424657,
          7.0624434980821915,
          5.760118161643835,
          0.46524126301369795,
          13.53334297808219,
          4.715263751232876,
          6.588851412876712,
          13.46291905589041,
          3.571001370958904,
          9.322234225205479,
          26.97679496849315,
          1.8991304504109583,
          12.36533218520548,
          4.806959230684931,
          16.040965716712325,
          15.437777478904108,
          2.74178369589041,
          5.243152581369863,
          6.644110129863014,
          5.305532954520547,
          1.592883513424657,
          10.47728369369863,
          2.3872106454794513,
          15.99388634027397,
          3.8122630416438352,
          11.210611713972602,
          6.667563617808219,
          9.057186624109589,
          0.008290095342465643,
          14.49158458410959,
          0.1872011441095884,
          8.163198164931506,
          5.103606575342465,
          21.191294267945207,
          11.583696033424658,
          2.0126731424657525,
          0.021214472602739717,
          15.290183935890413,
          14.623515219726027,
          16.161768361095888,
          4.368436598356164,
          5.943203772054794,
          15.295501652328765,
          13.296275679452053,
          29.203174149863013,
          0.8217546715068487,
          14.942974458630136,
          3.249809524931506,
          2.4543924476712324,
          17.474626490684933,
          0.9463521446575337,
          11.232716733424654,
          9.085259866849315,
          62.343849929863026,
          17.146227756712328,
          4.472710407123287,
          3.554519461369861,
          3.3514459145205477,
          34.679597310136984,
          5.9626060252054796,
          6.202569553424658,
          1.5650076372602735,
          13.160607485479451,
          3.906911605479451,
          30.328025129863015,
          7.417383470136985,
          19.49849633808219,
          6.823268353972603,
          10.763964447123287,
          3.972105978082191,
          3.2247818958904104,
          0.024833150136985806,
          15.09523593589041,
          3.07780666849315,
          5.649692053150685,
          2.1612566772602735,
          16.05888772219178,
          1.630326243013698,
          13.09403647917808,
          6.947518898630136,
          5.378751190958903,
          27.868671017260272,
          7.010848731506849,
          7.964731666849313,
          2.394937776164382,
          1.3857855167123283,
          0.011122041643835448,
          5.96932541369863,
          25.822952309041096,
          2.9820920153424653,
          9.503422971506849,
          0.7310222613698624,
          8.381160755652171,
          6.921284842975205,
          8.507769833424657,
          11.198902513424656,
          11.457734083287672,
          2.4876427676712325,
          13.706893017534245,
          21.76241649589041,
          0.9323814583561638,
          8.599123258904108,
          6.675183381917808,
          18.596448266301365,
          0,
          23.21798790849315,
          7.058676092328766,
          10.798477057534246,
          5.566170949041095,
          2.3420415441095885,
          2.3107493227397256
         ],
         "xbins": {
          "end": 62.343849929863026,
          "size": 3.117192496493151,
          "start": 0
         }
        }
       ],
       "layout": {
        "template": {
         "data": {
          "bar": [
           {
            "error_x": {
             "color": "#2a3f5f"
            },
            "error_y": {
             "color": "#2a3f5f"
            },
            "marker": {
             "line": {
              "color": "#E5ECF6",
              "width": 0.5
             },
             "pattern": {
              "fillmode": "overlay",
              "size": 10,
              "solidity": 0.2
             }
            },
            "type": "bar"
           }
          ],
          "barpolar": [
           {
            "marker": {
             "line": {
              "color": "#E5ECF6",
              "width": 0.5
             },
             "pattern": {
              "fillmode": "overlay",
              "size": 10,
              "solidity": 0.2
             }
            },
            "type": "barpolar"
           }
          ],
          "carpet": [
           {
            "aaxis": {
             "endlinecolor": "#2a3f5f",
             "gridcolor": "white",
             "linecolor": "white",
             "minorgridcolor": "white",
             "startlinecolor": "#2a3f5f"
            },
            "baxis": {
             "endlinecolor": "#2a3f5f",
             "gridcolor": "white",
             "linecolor": "white",
             "minorgridcolor": "white",
             "startlinecolor": "#2a3f5f"
            },
            "type": "carpet"
           }
          ],
          "choropleth": [
           {
            "colorbar": {
             "outlinewidth": 0,
             "ticks": ""
            },
            "type": "choropleth"
           }
          ],
          "contour": [
           {
            "colorbar": {
             "outlinewidth": 0,
             "ticks": ""
            },
            "colorscale": [
             [
              0,
              "#0d0887"
             ],
             [
              0.1111111111111111,
              "#46039f"
             ],
             [
              0.2222222222222222,
              "#7201a8"
             ],
             [
              0.3333333333333333,
              "#9c179e"
             ],
             [
              0.4444444444444444,
              "#bd3786"
             ],
             [
              0.5555555555555556,
              "#d8576b"
             ],
             [
              0.6666666666666666,
              "#ed7953"
             ],
             [
              0.7777777777777778,
              "#fb9f3a"
             ],
             [
              0.8888888888888888,
              "#fdca26"
             ],
             [
              1,
              "#f0f921"
             ]
            ],
            "type": "contour"
           }
          ],
          "contourcarpet": [
           {
            "colorbar": {
             "outlinewidth": 0,
             "ticks": ""
            },
            "type": "contourcarpet"
           }
          ],
          "heatmap": [
           {
            "colorbar": {
             "outlinewidth": 0,
             "ticks": ""
            },
            "colorscale": [
             [
              0,
              "#0d0887"
             ],
             [
              0.1111111111111111,
              "#46039f"
             ],
             [
              0.2222222222222222,
              "#7201a8"
             ],
             [
              0.3333333333333333,
              "#9c179e"
             ],
             [
              0.4444444444444444,
              "#bd3786"
             ],
             [
              0.5555555555555556,
              "#d8576b"
             ],
             [
              0.6666666666666666,
              "#ed7953"
             ],
             [
              0.7777777777777778,
              "#fb9f3a"
             ],
             [
              0.8888888888888888,
              "#fdca26"
             ],
             [
              1,
              "#f0f921"
             ]
            ],
            "type": "heatmap"
           }
          ],
          "heatmapgl": [
           {
            "colorbar": {
             "outlinewidth": 0,
             "ticks": ""
            },
            "colorscale": [
             [
              0,
              "#0d0887"
             ],
             [
              0.1111111111111111,
              "#46039f"
             ],
             [
              0.2222222222222222,
              "#7201a8"
             ],
             [
              0.3333333333333333,
              "#9c179e"
             ],
             [
              0.4444444444444444,
              "#bd3786"
             ],
             [
              0.5555555555555556,
              "#d8576b"
             ],
             [
              0.6666666666666666,
              "#ed7953"
             ],
             [
              0.7777777777777778,
              "#fb9f3a"
             ],
             [
              0.8888888888888888,
              "#fdca26"
             ],
             [
              1,
              "#f0f921"
             ]
            ],
            "type": "heatmapgl"
           }
          ],
          "histogram": [
           {
            "marker": {
             "pattern": {
              "fillmode": "overlay",
              "size": 10,
              "solidity": 0.2
             }
            },
            "type": "histogram"
           }
          ],
          "histogram2d": [
           {
            "colorbar": {
             "outlinewidth": 0,
             "ticks": ""
            },
            "colorscale": [
             [
              0,
              "#0d0887"
             ],
             [
              0.1111111111111111,
              "#46039f"
             ],
             [
              0.2222222222222222,
              "#7201a8"
             ],
             [
              0.3333333333333333,
              "#9c179e"
             ],
             [
              0.4444444444444444,
              "#bd3786"
             ],
             [
              0.5555555555555556,
              "#d8576b"
             ],
             [
              0.6666666666666666,
              "#ed7953"
             ],
             [
              0.7777777777777778,
              "#fb9f3a"
             ],
             [
              0.8888888888888888,
              "#fdca26"
             ],
             [
              1,
              "#f0f921"
             ]
            ],
            "type": "histogram2d"
           }
          ],
          "histogram2dcontour": [
           {
            "colorbar": {
             "outlinewidth": 0,
             "ticks": ""
            },
            "colorscale": [
             [
              0,
              "#0d0887"
             ],
             [
              0.1111111111111111,
              "#46039f"
             ],
             [
              0.2222222222222222,
              "#7201a8"
             ],
             [
              0.3333333333333333,
              "#9c179e"
             ],
             [
              0.4444444444444444,
              "#bd3786"
             ],
             [
              0.5555555555555556,
              "#d8576b"
             ],
             [
              0.6666666666666666,
              "#ed7953"
             ],
             [
              0.7777777777777778,
              "#fb9f3a"
             ],
             [
              0.8888888888888888,
              "#fdca26"
             ],
             [
              1,
              "#f0f921"
             ]
            ],
            "type": "histogram2dcontour"
           }
          ],
          "mesh3d": [
           {
            "colorbar": {
             "outlinewidth": 0,
             "ticks": ""
            },
            "type": "mesh3d"
           }
          ],
          "parcoords": [
           {
            "line": {
             "colorbar": {
              "outlinewidth": 0,
              "ticks": ""
             }
            },
            "type": "parcoords"
           }
          ],
          "pie": [
           {
            "automargin": true,
            "type": "pie"
           }
          ],
          "scatter": [
           {
            "fillpattern": {
             "fillmode": "overlay",
             "size": 10,
             "solidity": 0.2
            },
            "type": "scatter"
           }
          ],
          "scatter3d": [
           {
            "line": {
             "colorbar": {
              "outlinewidth": 0,
              "ticks": ""
             }
            },
            "marker": {
             "colorbar": {
              "outlinewidth": 0,
              "ticks": ""
             }
            },
            "type": "scatter3d"
           }
          ],
          "scattercarpet": [
           {
            "marker": {
             "colorbar": {
              "outlinewidth": 0,
              "ticks": ""
             }
            },
            "type": "scattercarpet"
           }
          ],
          "scattergeo": [
           {
            "marker": {
             "colorbar": {
              "outlinewidth": 0,
              "ticks": ""
             }
            },
            "type": "scattergeo"
           }
          ],
          "scattergl": [
           {
            "marker": {
             "colorbar": {
              "outlinewidth": 0,
              "ticks": ""
             }
            },
            "type": "scattergl"
           }
          ],
          "scattermapbox": [
           {
            "marker": {
             "colorbar": {
              "outlinewidth": 0,
              "ticks": ""
             }
            },
            "type": "scattermapbox"
           }
          ],
          "scatterpolar": [
           {
            "marker": {
             "colorbar": {
              "outlinewidth": 0,
              "ticks": ""
             }
            },
            "type": "scatterpolar"
           }
          ],
          "scatterpolargl": [
           {
            "marker": {
             "colorbar": {
              "outlinewidth": 0,
              "ticks": ""
             }
            },
            "type": "scatterpolargl"
           }
          ],
          "scatterternary": [
           {
            "marker": {
             "colorbar": {
              "outlinewidth": 0,
              "ticks": ""
             }
            },
            "type": "scatterternary"
           }
          ],
          "surface": [
           {
            "colorbar": {
             "outlinewidth": 0,
             "ticks": ""
            },
            "colorscale": [
             [
              0,
              "#0d0887"
             ],
             [
              0.1111111111111111,
              "#46039f"
             ],
             [
              0.2222222222222222,
              "#7201a8"
             ],
             [
              0.3333333333333333,
              "#9c179e"
             ],
             [
              0.4444444444444444,
              "#bd3786"
             ],
             [
              0.5555555555555556,
              "#d8576b"
             ],
             [
              0.6666666666666666,
              "#ed7953"
             ],
             [
              0.7777777777777778,
              "#fb9f3a"
             ],
             [
              0.8888888888888888,
              "#fdca26"
             ],
             [
              1,
              "#f0f921"
             ]
            ],
            "type": "surface"
           }
          ],
          "table": [
           {
            "cells": {
             "fill": {
              "color": "#EBF0F8"
             },
             "line": {
              "color": "white"
             }
            },
            "header": {
             "fill": {
              "color": "#C8D4E3"
             },
             "line": {
              "color": "white"
             }
            },
            "type": "table"
           }
          ]
         },
         "layout": {
          "annotationdefaults": {
           "arrowcolor": "#2a3f5f",
           "arrowhead": 0,
           "arrowwidth": 1
          },
          "autotypenumbers": "strict",
          "coloraxis": {
           "colorbar": {
            "outlinewidth": 0,
            "ticks": ""
           }
          },
          "colorscale": {
           "diverging": [
            [
             0,
             "#8e0152"
            ],
            [
             0.1,
             "#c51b7d"
            ],
            [
             0.2,
             "#de77ae"
            ],
            [
             0.3,
             "#f1b6da"
            ],
            [
             0.4,
             "#fde0ef"
            ],
            [
             0.5,
             "#f7f7f7"
            ],
            [
             0.6,
             "#e6f5d0"
            ],
            [
             0.7,
             "#b8e186"
            ],
            [
             0.8,
             "#7fbc41"
            ],
            [
             0.9,
             "#4d9221"
            ],
            [
             1,
             "#276419"
            ]
           ],
           "sequential": [
            [
             0,
             "#0d0887"
            ],
            [
             0.1111111111111111,
             "#46039f"
            ],
            [
             0.2222222222222222,
             "#7201a8"
            ],
            [
             0.3333333333333333,
             "#9c179e"
            ],
            [
             0.4444444444444444,
             "#bd3786"
            ],
            [
             0.5555555555555556,
             "#d8576b"
            ],
            [
             0.6666666666666666,
             "#ed7953"
            ],
            [
             0.7777777777777778,
             "#fb9f3a"
            ],
            [
             0.8888888888888888,
             "#fdca26"
            ],
            [
             1,
             "#f0f921"
            ]
           ],
           "sequentialminus": [
            [
             0,
             "#0d0887"
            ],
            [
             0.1111111111111111,
             "#46039f"
            ],
            [
             0.2222222222222222,
             "#7201a8"
            ],
            [
             0.3333333333333333,
             "#9c179e"
            ],
            [
             0.4444444444444444,
             "#bd3786"
            ],
            [
             0.5555555555555556,
             "#d8576b"
            ],
            [
             0.6666666666666666,
             "#ed7953"
            ],
            [
             0.7777777777777778,
             "#fb9f3a"
            ],
            [
             0.8888888888888888,
             "#fdca26"
            ],
            [
             1,
             "#f0f921"
            ]
           ]
          },
          "colorway": [
           "#636efa",
           "#EF553B",
           "#00cc96",
           "#ab63fa",
           "#FFA15A",
           "#19d3f3",
           "#FF6692",
           "#B6E880",
           "#FF97FF",
           "#FECB52"
          ],
          "font": {
           "color": "#2a3f5f"
          },
          "geo": {
           "bgcolor": "white",
           "lakecolor": "white",
           "landcolor": "#E5ECF6",
           "showlakes": true,
           "showland": true,
           "subunitcolor": "white"
          },
          "hoverlabel": {
           "align": "left"
          },
          "hovermode": "closest",
          "mapbox": {
           "style": "light"
          },
          "paper_bgcolor": "white",
          "plot_bgcolor": "#E5ECF6",
          "polar": {
           "angularaxis": {
            "gridcolor": "white",
            "linecolor": "white",
            "ticks": ""
           },
           "bgcolor": "#E5ECF6",
           "radialaxis": {
            "gridcolor": "white",
            "linecolor": "white",
            "ticks": ""
           }
          },
          "scene": {
           "xaxis": {
            "backgroundcolor": "#E5ECF6",
            "gridcolor": "white",
            "gridwidth": 2,
            "linecolor": "white",
            "showbackground": true,
            "ticks": "",
            "zerolinecolor": "white"
           },
           "yaxis": {
            "backgroundcolor": "#E5ECF6",
            "gridcolor": "white",
            "gridwidth": 2,
            "linecolor": "white",
            "showbackground": true,
            "ticks": "",
            "zerolinecolor": "white"
           },
           "zaxis": {
            "backgroundcolor": "#E5ECF6",
            "gridcolor": "white",
            "gridwidth": 2,
            "linecolor": "white",
            "showbackground": true,
            "ticks": "",
            "zerolinecolor": "white"
           }
          },
          "shapedefaults": {
           "line": {
            "color": "#2a3f5f"
           }
          },
          "ternary": {
           "aaxis": {
            "gridcolor": "white",
            "linecolor": "white",
            "ticks": ""
           },
           "baxis": {
            "gridcolor": "white",
            "linecolor": "white",
            "ticks": ""
           },
           "bgcolor": "#E5ECF6",
           "caxis": {
            "gridcolor": "white",
            "linecolor": "white",
            "ticks": ""
           }
          },
          "title": {
           "x": 0.05
          },
          "xaxis": {
           "automargin": true,
           "gridcolor": "white",
           "linecolor": "white",
           "ticks": "",
           "title": {
            "standoff": 15
           },
           "zerolinecolor": "white",
           "zerolinewidth": 2
          },
          "yaxis": {
           "automargin": true,
           "gridcolor": "white",
           "linecolor": "white",
           "ticks": "",
           "title": {
            "standoff": 15
           },
           "zerolinecolor": "white",
           "zerolinewidth": 2
          }
         }
        },
        "title": {
         "text": "Average Daily Air Conditioning Consumption"
        },
        "xaxis": {
         "title": {
          "text": "kWh"
         },
         "zeroline": false
        },
        "yaxis": {
         "title": {
          "text": "Frequency"
         },
         "zeroline": false
        }
       }
      }
     },
     "metadata": {},
     "output_type": "display_data"
    }
   ],
   "source": [
    "def create_histogram(data, title, xaxis_title, output_file):\n",
    "    fig = go.Figure()\n",
    "    fig.add_trace(go.Histogram(\n",
    "        x=data,\n",
    "        marker_color='skyblue',\n",
    "        opacity=0.75,\n",
    "        xbins=dict(start=min(data), end=max(data), size=(max(data) - min(data)) / 20)\n",
    "    ))\n",
    "    fig.update_layout(\n",
    "        title=title,\n",
    "        xaxis_title=xaxis_title,\n",
    "        yaxis_title='Frequency',\n",
    "        xaxis=dict(zeroline=False),\n",
    "        yaxis=dict(zeroline=False)\n",
    "    )\n",
    "    fig.write_html(output_file)\n",
    "    fig.show()\n",
    "\n",
    "# Create and save each histogram\n",
    "create_histogram(daily_consumption, 'Average Daily Total Household Consumption', 'kWh',\n",
    "                  os.path.join(output_directory, 'household_consumption_histogram.html'))\n",
    "\n",
    "create_histogram(daily_pv_generation, 'Average Daily PV Generation', 'kWh',\n",
    "                  os.path.join(output_directory, 'pv_generation_histogram.html'))\n",
    "\n",
    "create_histogram(daily_ac_consumption, 'Average Daily Air Conditioning Consumption', 'kWh',\n",
    "                  os.path.join(output_directory, 'ac_consumption_histogram.html'))"
   ]
  },
  {
   "cell_type": "code",
   "execution_count": null,
   "metadata": {},
   "outputs": [],
   "source": [
    "#plot\n",
    "\n",
    "\n",
    "for site_id in site_ids:\n",
    "    # Read the CSV file for the current site ID\n",
    "    filepath = os.path.join(resampled_data_directory, f'{site_id}_profile.csv')\n",
    "    df = pd.read_csv(filepath)\n",
    "\n",
    "    # Create trace for PV generation\n",
    "    #trace_pv = go.Scatter(x=df['TS'], y=df['PV'], mode='lines', name='PV Generation')\n",
    "\n",
    "    # Create trace for load\n",
    "    trace_load = go.Scatter(x=df['TS'], y=df['kWh'], mode='lines', name='Load')\n",
    "\n",
    "    # Define layout\n",
    "    layout = go.Layout(\n",
    "        title=f'PV Generation and Load Over Time ({site_id})',\n",
    "        xaxis=dict(title='Date'),\n",
    "        yaxis=dict(title='Energy (kWh)'),\n",
    "        legend=dict(x=0.01, y=0.99),\n",
    "        plot_bgcolor='rgba(0,0,0,0)'\n",
    "    )\n",
    "\n",
    "    # Create figure object combining PV generation and load traces\n",
    "    fig = go.Figure(data=[trace_load], layout=layout)\n",
    "\n",
    "    # Display the figure\n",
    "    fig.show()"
   ]
  },
  {
   "cell_type": "code",
   "execution_count": null,
   "metadata": {},
   "outputs": [],
   "source": [
    "\n",
    "# Create traces for PV generation and load\n",
    "trace_pv = go.Scatter(x=stacked_df['TS'], y=stacked_df['PV'], mode='lines', name='PV Generation')\n",
    "trace_load = go.Scatter(x=stacked_df['TS'], y=stacked_df['kWh'], mode='lines', name='Load')\n",
    "\n",
    "# Define layout\n",
    "layout = go.Layout(\n",
    "    title=f'PV Generation and Load Full Profile ({site_id})',\n",
    "    xaxis=dict(title='Date'),\n",
    "    yaxis=dict(title='Energy (W)'),\n",
    "    legend=dict(x=0.01, y=0.99),\n",
    "    plot_bgcolor='rgba(0,0,0,0)'\n",
    ")\n",
    "\n",
    "# Create figure object\n",
    "fig = go.Figure(data=[trace_pv, trace_load], layout=layout)\n",
    "\n",
    "# Display plot\n",
    "pyo.iplot(fig)"
   ]
  },
  {
   "cell_type": "code",
   "execution_count": null,
   "metadata": {},
   "outputs": [],
   "source": [
    "## a better way to impute the data\n",
    "\n",
    "site_id = 'W0192'"
   ]
  },
  {
   "cell_type": "code",
   "execution_count": null,
   "metadata": {},
   "outputs": [],
   "source": [
    "import os\n",
    "import pandas as pd\n",
    "\n",
    "# Define the cleaned data directory (the directory with 200+ CSV files)\n",
    "data_dir = os.path.join(base_directory, 'resampled_30min_data')\n",
    "\n",
    "# Function to determine the season based on the date\n",
    "def get_season(month):\n",
    "    if month in [12, 1, 2]:\n",
    "        return 'Summer'\n",
    "    elif month in [3, 4, 5]:\n",
    "        return 'Autumn'\n",
    "    elif month in [6, 7, 8]:\n",
    "        return 'Winter'\n",
    "    elif month in [9, 10, 11]:\n",
    "        return 'Spring'\n",
    "\n",
    "# Function to determine if the day is a weekend or weekday\n",
    "def get_weekday_or_weekend(date):\n",
    "    # Weekdays are Monday (0) to Friday (4), weekends are Saturday (5) and Sunday (6)\n",
    "    if date.weekday() >= 5:\n",
    "        return 'WE'  # Weekend\n",
    "    else:\n",
    "        return 'WD'  # Weekday\n",
    "\n",
    "# Loop through each file in the directory\n",
    "for filename in os.listdir(data_dir):\n",
    "    if filename.endswith(\".csv\"):\n",
    "        file_path = os.path.join(data_dir, filename)\n",
    "        \n",
    "        # Load the household CSV file\n",
    "        df = pd.read_csv(file_path)\n",
    "        \n",
    "        # Ensure the 'TS' column is in datetime format\n",
    "        df['TS'] = pd.to_datetime(df['TS'])\n",
    "        \n",
    "        # Create the 'Season' column based on the month\n",
    "        df['Season'] = df['TS'].dt.month.apply(get_season)\n",
    "        \n",
    "        # Create the 'Day_Type' column based on whether it's a weekday or weekend\n",
    "        df['Day_Type'] = df['TS'].apply(get_weekday_or_weekend)\n",
    "        \n",
    "        # Save the updated DataFrame back to the file, or create a new file in another directory\n",
    "        updated_file_path = os.path.join(data_dir, f\"updated_{filename}\")\n",
    "        df.to_csv(updated_file_path, index=False)\n",
    "\n",
    "        print(f\"Updated {filename} with 'Season' and 'Day_Type' columns.\")\n"
   ]
  }
 ],
 "metadata": {
  "kernelspec": {
   "display_name": "Python 3",
   "language": "python",
   "name": "python3"
  },
  "language_info": {
   "codemirror_mode": {
    "name": "ipython",
    "version": 3
   },
   "file_extension": ".py",
   "mimetype": "text/x-python",
   "name": "python",
   "nbconvert_exporter": "python",
   "pygments_lexer": "ipython3",
   "version": "3.11.4"
  }
 },
 "nbformat": 4,
 "nbformat_minor": 2
}
